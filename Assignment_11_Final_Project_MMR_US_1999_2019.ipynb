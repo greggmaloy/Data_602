{
 "cells": [
  {
   "cell_type": "markdown",
   "id": "95bcad9b",
   "metadata": {},
   "source": [
    "**Gregg Maloy   \n",
    "Data 602    \n",
    "Final Project     \n",
    "Analysis of Maternal Mortality Rates in the United States between 1999-2019 by Maternal Race**"
   ]
  },
  {
   "cell_type": "markdown",
   "id": "c6bee2d0",
   "metadata": {},
   "source": [
    "**PART I. INTRODUCTION**\n",
    "\n",
    "*Research Question*    \n",
    "The analysis will answer the following questions using OLS linear regression:    \n",
    "Has maternal mortality increased for all racial/ethnic groups over the past twenty years?     \n",
    "(Supervised machine learning was attempted at the end of the analysis after the conclusion)\n",
    "\n",
    "*Justification and Relevance*     \n",
    "It is well documented that maternal mortality, considered a health indicator for the greater population, has increased within recent years, particularly among minority groups.  Health systems throughout the country are tasked with reducing maternal mortality rates.  \n",
    "\n",
    "This analysis continues work from previous assignments which focused on 1.) maternal mortality in NYC, and 2.) maternal mortality among G7 countries.  In brief, those past analysis determined 1.) maternal mortality to have increased among all racial/ethnic groups in NYC for the years 2016-2020, and 2.) determined the United States to have the highest and most rapidly increasing maternal mortality ratio (MMR) of any G7 country for the years 2000-2017.  Additionally, all G7 countries experienced a decrease in maternal mortality for years 2000-2017, except Canada.\n",
    "\n",
    "*Data Sources*    \n",
    "The dataset consists of estimated rates of maternal deaths per 100,000 live births across all 50 states.  It is imporatant to emphasize that the MMR's in the dataset are estimates, as the collection of standardized and comparable maternal mortality data remains a challenge due, in part, to lack of standarized data collection. Data is available via 'The Institute for Health Metrics and Evalulation' website, which is affilated with the University of Washington.   \n",
    "Dataset: https://ghdx.healthdata.org/record/ihme-data/united-states-maternal-mortality-by-state-race-ethnicity-1999-2019"
   ]
  },
  {
   "cell_type": "markdown",
   "id": "e92267de",
   "metadata": {},
   "source": [
    "**PART II. DATA INSPECTION & WRANGLING**   \n",
    "\n",
    "*Data Inspection*   \n",
    "Data is loaded into a dataframe from a CSV file using pandas. \n",
    "The dataframe has 5901 rows long with 15 columns/variables.   \n",
    "\n",
    "Variables include:    \n",
    "- measure_id - A numerical identifier for the 'Maternal Mortality Ratio' measure.        \n",
    "- measure_name - Each value in this column is 'Maternal Mortality Ratio'.   \n",
    "- location_id - A numerical location identifier.\t   \n",
    "- location_name - State, Region or National.   \n",
    "- race_group - Maternal race/ethnic grouping.   \n",
    "- sex_id - Gender numerical identifier.   \n",
    "- sex_name - Gender.   \n",
    "- age_group_id - Maternal age numerical group.   \n",
    "- age_group_name - Maternal age group.   \n",
    "- year_id\tmetric_id - Year.    \n",
    "- metric_name - Each value in this column is 'Rate'.  \n",
    "- val - Estimated MMR.\t   \n",
    "- lower - Lower Confidence Interval.   \n",
    "- upper - Upper Confidence Interval.\n",
    "\n",
    "Data Inspection Notes\n",
    "- Variables are encoded to proper data types and include 5 ints, 4 floats, and 6 objects.   \n",
    "- Information produced by df.describe() was not entirely accurate, as the dataset would need to be tidied for calculations to be relevant.   \n",
    "- Maternal mortality data is available for 21 years (1999- 2019).   \n",
    "- Data is available for 50 states, the District of Columbia, as well as 4 census regions and 1 national region.   \n",
    "- The only null/nan values in the data frame are in column 'location_id', which has 420 null/nan values.   \n",
    "- Variables of interest for this analysis will be 'location_name', 'year_id', 'race_group', and 'val' (maternal mortality ratio) rate, which is defined as the number of maternal deaths per 100,000 live births.\n",
    "- Finally the dataframe is filtered to only where 'location_name'='national', as this analysis is only interested on national statistics and will not drill down to state level data.\n",
    "- The final dataframe has 105 rows and 5 columns: location_name, state_abbreviation, year_id, race_group and val (maternal mortality ratio)."
   ]
  },
  {
   "cell_type": "code",
   "execution_count": 371,
   "id": "d4e9753b",
   "metadata": {},
   "outputs": [
    {
     "data": {
      "text/html": [
       "<div>\n",
       "<style scoped>\n",
       "    .dataframe tbody tr th:only-of-type {\n",
       "        vertical-align: middle;\n",
       "    }\n",
       "\n",
       "    .dataframe tbody tr th {\n",
       "        vertical-align: top;\n",
       "    }\n",
       "\n",
       "    .dataframe thead th {\n",
       "        text-align: right;\n",
       "    }\n",
       "</style>\n",
       "<table border=\"1\" class=\"dataframe\">\n",
       "  <thead>\n",
       "    <tr style=\"text-align: right;\">\n",
       "      <th></th>\n",
       "      <th>measure_id</th>\n",
       "      <th>measure_name</th>\n",
       "      <th>location_id</th>\n",
       "      <th>location_name</th>\n",
       "      <th>race_group</th>\n",
       "      <th>sex_id</th>\n",
       "      <th>sex_name</th>\n",
       "      <th>age_group_id</th>\n",
       "      <th>age_group_name</th>\n",
       "      <th>year_id</th>\n",
       "      <th>metric_id</th>\n",
       "      <th>metric_name</th>\n",
       "      <th>val</th>\n",
       "      <th>lower</th>\n",
       "      <th>upper</th>\n",
       "    </tr>\n",
       "  </thead>\n",
       "  <tbody>\n",
       "    <tr>\n",
       "      <th>0</th>\n",
       "      <td>25</td>\n",
       "      <td>Maternal mortality ratio</td>\n",
       "      <td>523.0</td>\n",
       "      <td>Alabama</td>\n",
       "      <td>Hispanic and any race</td>\n",
       "      <td>2</td>\n",
       "      <td>Female</td>\n",
       "      <td>169</td>\n",
       "      <td>10 to 54</td>\n",
       "      <td>1999</td>\n",
       "      <td>3</td>\n",
       "      <td>Rate</td>\n",
       "      <td>7.054950</td>\n",
       "      <td>3.074580</td>\n",
       "      <td>16.177776</td>\n",
       "    </tr>\n",
       "    <tr>\n",
       "      <th>1</th>\n",
       "      <td>25</td>\n",
       "      <td>Maternal mortality ratio</td>\n",
       "      <td>523.0</td>\n",
       "      <td>Alabama</td>\n",
       "      <td>Hispanic and any race</td>\n",
       "      <td>2</td>\n",
       "      <td>Female</td>\n",
       "      <td>169</td>\n",
       "      <td>10 to 54</td>\n",
       "      <td>2000</td>\n",
       "      <td>3</td>\n",
       "      <td>Rate</td>\n",
       "      <td>6.854802</td>\n",
       "      <td>2.409957</td>\n",
       "      <td>18.109539</td>\n",
       "    </tr>\n",
       "    <tr>\n",
       "      <th>2</th>\n",
       "      <td>25</td>\n",
       "      <td>Maternal mortality ratio</td>\n",
       "      <td>523.0</td>\n",
       "      <td>Alabama</td>\n",
       "      <td>Hispanic and any race</td>\n",
       "      <td>2</td>\n",
       "      <td>Female</td>\n",
       "      <td>169</td>\n",
       "      <td>10 to 54</td>\n",
       "      <td>2001</td>\n",
       "      <td>3</td>\n",
       "      <td>Rate</td>\n",
       "      <td>7.071387</td>\n",
       "      <td>2.085136</td>\n",
       "      <td>21.455477</td>\n",
       "    </tr>\n",
       "  </tbody>\n",
       "</table>\n",
       "</div>"
      ],
      "text/plain": [
       "   measure_id              measure_name  location_id location_name  \\\n",
       "0          25  Maternal mortality ratio        523.0       Alabama   \n",
       "1          25  Maternal mortality ratio        523.0       Alabama   \n",
       "2          25  Maternal mortality ratio        523.0       Alabama   \n",
       "\n",
       "              race_group  sex_id sex_name  age_group_id age_group_name  \\\n",
       "0  Hispanic and any race       2   Female           169       10 to 54   \n",
       "1  Hispanic and any race       2   Female           169       10 to 54   \n",
       "2  Hispanic and any race       2   Female           169       10 to 54   \n",
       "\n",
       "   year_id  metric_id metric_name       val     lower      upper  \n",
       "0     1999          3        Rate  7.054950  3.074580  16.177776  \n",
       "1     2000          3        Rate  6.854802  2.409957  18.109539  \n",
       "2     2001          3        Rate  7.071387  2.085136  21.455477  "
      ]
     },
     "execution_count": 371,
     "metadata": {},
     "output_type": "execute_result"
    }
   ],
   "source": [
    "import pandas as pd\n",
    "#CSV file\n",
    "url = 'https://raw.githubusercontent.com/greggmaloy/Data_602/main/Data_602_final_maternal_mortality_ratio_US.csv'\n",
    "df = pd.read_csv(url)\n",
    "df.head(3)"
   ]
  },
  {
   "cell_type": "code",
   "execution_count": 372,
   "id": "764174a8",
   "metadata": {},
   "outputs": [
    {
     "name": "stdout",
     "output_type": "stream",
     "text": [
      "<class 'pandas.core.frame.DataFrame'>\n",
      "RangeIndex: 5901 entries, 0 to 5900\n",
      "Data columns (total 15 columns):\n",
      " #   Column          Non-Null Count  Dtype  \n",
      "---  ------          --------------  -----  \n",
      " 0   measure_id      5901 non-null   int64  \n",
      " 1   measure_name    5901 non-null   object \n",
      " 2   location_id     5481 non-null   float64\n",
      " 3   location_name   5901 non-null   object \n",
      " 4   race_group      5901 non-null   object \n",
      " 5   sex_id          5901 non-null   int64  \n",
      " 6   sex_name        5901 non-null   object \n",
      " 7   age_group_id    5901 non-null   int64  \n",
      " 8   age_group_name  5901 non-null   object \n",
      " 9   year_id         5901 non-null   int64  \n",
      " 10  metric_id       5901 non-null   int64  \n",
      " 11  metric_name     5901 non-null   object \n",
      " 12  val             5901 non-null   float64\n",
      " 13  lower           5901 non-null   float64\n",
      " 14  upper           5901 non-null   float64\n",
      "dtypes: float64(4), int64(5), object(6)\n",
      "memory usage: 691.6+ KB\n"
     ]
    }
   ],
   "source": [
    "#The dataframe is 5901 rows long with 15 columns.\n",
    "#Variables are encoded to proper data type and include 5 ints, 4 floats, and 6 objects.\n",
    "#these values are not relevant, as the dataset is not tidied and aggregate counts therefore inaccurate\n",
    "#Check whether only numeric values are present in numeric columns\n",
    "#these are all the years included in the dataset\n",
    "#these are all the 'locations' in the dataset - 50 states, the district of columbia, 4 census regions, and one national region\n",
    "df.info()"
   ]
  },
  {
   "cell_type": "code",
   "execution_count": 373,
   "id": "efd8d79c",
   "metadata": {},
   "outputs": [
    {
     "data": {
      "text/html": [
       "<div>\n",
       "<style scoped>\n",
       "    .dataframe tbody tr th:only-of-type {\n",
       "        vertical-align: middle;\n",
       "    }\n",
       "\n",
       "    .dataframe tbody tr th {\n",
       "        vertical-align: top;\n",
       "    }\n",
       "\n",
       "    .dataframe thead th {\n",
       "        text-align: right;\n",
       "    }\n",
       "</style>\n",
       "<table border=\"1\" class=\"dataframe\">\n",
       "  <thead>\n",
       "    <tr style=\"text-align: right;\">\n",
       "      <th></th>\n",
       "      <th>measure_id</th>\n",
       "      <th>location_id</th>\n",
       "      <th>sex_id</th>\n",
       "      <th>age_group_id</th>\n",
       "      <th>year_id</th>\n",
       "      <th>metric_id</th>\n",
       "      <th>val</th>\n",
       "      <th>lower</th>\n",
       "      <th>upper</th>\n",
       "    </tr>\n",
       "  </thead>\n",
       "  <tbody>\n",
       "    <tr>\n",
       "      <th>count</th>\n",
       "      <td>5901.0</td>\n",
       "      <td>5481.000000</td>\n",
       "      <td>5901.0</td>\n",
       "      <td>5901.0</td>\n",
       "      <td>5901.000000</td>\n",
       "      <td>5901.0</td>\n",
       "      <td>5901.000000</td>\n",
       "      <td>5901.000000</td>\n",
       "      <td>5901.000000</td>\n",
       "    </tr>\n",
       "    <tr>\n",
       "      <th>mean</th>\n",
       "      <td>25.0</td>\n",
       "      <td>537.747126</td>\n",
       "      <td>2.0</td>\n",
       "      <td>169.0</td>\n",
       "      <td>2009.000000</td>\n",
       "      <td>3.0</td>\n",
       "      <td>25.883291</td>\n",
       "      <td>12.189606</td>\n",
       "      <td>107.417064</td>\n",
       "    </tr>\n",
       "    <tr>\n",
       "      <th>std</th>\n",
       "      <td>0.0</td>\n",
       "      <td>68.411987</td>\n",
       "      <td>0.0</td>\n",
       "      <td>0.0</td>\n",
       "      <td>6.055814</td>\n",
       "      <td>0.0</td>\n",
       "      <td>24.849678</td>\n",
       "      <td>13.794055</td>\n",
       "      <td>380.238824</td>\n",
       "    </tr>\n",
       "    <tr>\n",
       "      <th>min</th>\n",
       "      <td>25.0</td>\n",
       "      <td>102.000000</td>\n",
       "      <td>2.0</td>\n",
       "      <td>169.0</td>\n",
       "      <td>1999.000000</td>\n",
       "      <td>3.0</td>\n",
       "      <td>0.238959</td>\n",
       "      <td>0.000029</td>\n",
       "      <td>2.990539</td>\n",
       "    </tr>\n",
       "    <tr>\n",
       "      <th>25%</th>\n",
       "      <td>25.0</td>\n",
       "      <td>534.000000</td>\n",
       "      <td>2.0</td>\n",
       "      <td>169.0</td>\n",
       "      <td>2004.000000</td>\n",
       "      <td>3.0</td>\n",
       "      <td>10.490341</td>\n",
       "      <td>2.861350</td>\n",
       "      <td>25.498193</td>\n",
       "    </tr>\n",
       "    <tr>\n",
       "      <th>50%</th>\n",
       "      <td>25.0</td>\n",
       "      <td>547.000000</td>\n",
       "      <td>2.0</td>\n",
       "      <td>169.0</td>\n",
       "      <td>2009.000000</td>\n",
       "      <td>3.0</td>\n",
       "      <td>18.918142</td>\n",
       "      <td>7.940514</td>\n",
       "      <td>43.065600</td>\n",
       "    </tr>\n",
       "    <tr>\n",
       "      <th>75%</th>\n",
       "      <td>25.0</td>\n",
       "      <td>560.000000</td>\n",
       "      <td>2.0</td>\n",
       "      <td>169.0</td>\n",
       "      <td>2014.000000</td>\n",
       "      <td>3.0</td>\n",
       "      <td>32.783255</td>\n",
       "      <td>16.061453</td>\n",
       "      <td>81.377376</td>\n",
       "    </tr>\n",
       "    <tr>\n",
       "      <th>max</th>\n",
       "      <td>25.0</td>\n",
       "      <td>573.000000</td>\n",
       "      <td>2.0</td>\n",
       "      <td>169.0</td>\n",
       "      <td>2019.000000</td>\n",
       "      <td>3.0</td>\n",
       "      <td>441.249133</td>\n",
       "      <td>99.669577</td>\n",
       "      <td>9706.025762</td>\n",
       "    </tr>\n",
       "  </tbody>\n",
       "</table>\n",
       "</div>"
      ],
      "text/plain": [
       "       measure_id  location_id  sex_id  age_group_id      year_id  metric_id  \\\n",
       "count      5901.0  5481.000000  5901.0        5901.0  5901.000000     5901.0   \n",
       "mean         25.0   537.747126     2.0         169.0  2009.000000        3.0   \n",
       "std           0.0    68.411987     0.0           0.0     6.055814        0.0   \n",
       "min          25.0   102.000000     2.0         169.0  1999.000000        3.0   \n",
       "25%          25.0   534.000000     2.0         169.0  2004.000000        3.0   \n",
       "50%          25.0   547.000000     2.0         169.0  2009.000000        3.0   \n",
       "75%          25.0   560.000000     2.0         169.0  2014.000000        3.0   \n",
       "max          25.0   573.000000     2.0         169.0  2019.000000        3.0   \n",
       "\n",
       "               val        lower        upper  \n",
       "count  5901.000000  5901.000000  5901.000000  \n",
       "mean     25.883291    12.189606   107.417064  \n",
       "std      24.849678    13.794055   380.238824  \n",
       "min       0.238959     0.000029     2.990539  \n",
       "25%      10.490341     2.861350    25.498193  \n",
       "50%      18.918142     7.940514    43.065600  \n",
       "75%      32.783255    16.061453    81.377376  \n",
       "max     441.249133    99.669577  9706.025762  "
      ]
     },
     "execution_count": 373,
     "metadata": {},
     "output_type": "execute_result"
    }
   ],
   "source": [
    "#these values are not relevant, as the dataset is not tidied and aggregate counts therefore inaccurate\n",
    "df.describe()"
   ]
  },
  {
   "cell_type": "code",
   "execution_count": 374,
   "id": "7456dac1",
   "metadata": {},
   "outputs": [
    {
     "name": "stdout",
     "output_type": "stream",
     "text": [
      "measure_id          0\n",
      "measure_name        0\n",
      "location_id       420\n",
      "location_name       0\n",
      "race_group          0\n",
      "sex_id              0\n",
      "sex_name            0\n",
      "age_group_id        0\n",
      "age_group_name      0\n",
      "year_id             0\n",
      "metric_id           0\n",
      "metric_name         0\n",
      "val                 0\n",
      "lower               0\n",
      "upper               0\n",
      "dtype: int64\n"
     ]
    }
   ],
   "source": [
    "null_counts = df.isnull().sum()\n",
    "print(null_counts)"
   ]
  },
  {
   "cell_type": "code",
   "execution_count": 375,
   "id": "29fd7d74",
   "metadata": {},
   "outputs": [
    {
     "name": "stdout",
     "output_type": "stream",
     "text": [
      "measure_id          0\n",
      "measure_name        0\n",
      "location_id       420\n",
      "location_name       0\n",
      "race_group          0\n",
      "sex_id              0\n",
      "sex_name            0\n",
      "age_group_id        0\n",
      "age_group_name      0\n",
      "year_id             0\n",
      "metric_id           0\n",
      "metric_name         0\n",
      "val                 0\n",
      "lower               0\n",
      "upper               0\n",
      "dtype: int64\n"
     ]
    }
   ],
   "source": [
    "#420 nan values in locaiton_id. this column is not needed for this analysis and therefore we are not concern with this finding\n",
    "nan_counts = df.isna().sum()\n",
    "print(nan_counts)"
   ]
  },
  {
   "cell_type": "code",
   "execution_count": 376,
   "id": "8e578db3",
   "metadata": {},
   "outputs": [
    {
     "data": {
      "text/plain": [
       "True"
      ]
     },
     "execution_count": 376,
     "metadata": {},
     "output_type": "execute_result"
    }
   ],
   "source": [
    "#Check whether only numeric values are present in numeric columns\n",
    "is_numeric_deaths = all(str(value).isnumeric() for value in df['val'])\n",
    "is_numeric_year = all(str(value).isnumeric() for value in df['year_id'])\n",
    "\n",
    "is_numeric_deaths\n",
    "is_numeric_year"
   ]
  },
  {
   "cell_type": "code",
   "execution_count": 377,
   "id": "b9752fd2",
   "metadata": {},
   "outputs": [
    {
     "name": "stdout",
     "output_type": "stream",
     "text": [
      "[1999 2000 2001 2002 2003 2004 2005 2006 2007 2008 2009 2010 2011 2012\n",
      " 2013 2014 2015 2016 2017 2018 2019]\n"
     ]
    }
   ],
   "source": [
    "#number of unique years in dataset\n",
    "unique_values = df['year_id'].unique()\n",
    "#these are all the years included in the dataset\n",
    "print(unique_values)"
   ]
  },
  {
   "cell_type": "code",
   "execution_count": 378,
   "id": "4ad81be1",
   "metadata": {},
   "outputs": [
    {
     "name": "stdout",
     "output_type": "stream",
     "text": [
      "56\n"
     ]
    }
   ],
   "source": [
    "#number of unqiue locations\n",
    "unique_values = df['location_name'].unique()\n",
    "#these are all the 'locations' in the dataset - 50 states, the district of columbia, 4 census regions, and one national region\n",
    "print(len(unique_values))"
   ]
  },
  {
   "cell_type": "code",
   "execution_count": 379,
   "id": "b76e22e2",
   "metadata": {},
   "outputs": [
    {
     "name": "stdout",
     "output_type": "stream",
     "text": [
      "['Alabama' 'Alaska' 'Arizona' 'Arkansas' 'California' 'Colorado'\n",
      " 'Connecticut' 'Delaware' 'District of Columbia' 'Florida' 'Georgia'\n",
      " 'Hawaii' 'Idaho' 'Illinois' 'Indiana' 'Iowa' 'Kansas' 'Kentucky'\n",
      " 'Louisiana' 'Maine' 'Maryland' 'Massachusetts' 'Michigan'\n",
      " 'Midwest Census Region' 'Minnesota' 'Mississippi' 'Missouri' 'Montana'\n",
      " 'National' 'Nebraska' 'Nevada' 'New Hampshire' 'New Jersey' 'New Mexico'\n",
      " 'New York' 'North Carolina' 'North Dakota' 'Northeast Census Region'\n",
      " 'Ohio' 'Oklahoma' 'Oregon' 'Pennsylvania' 'Rhode Island'\n",
      " 'South Census Region' 'South Carolina' 'South Dakota' 'Tennessee' 'Texas'\n",
      " 'Utah' 'Vermont' 'Virginia' 'Washington' 'West Census Region'\n",
      " 'West Virginia' 'Wisconsin' 'Wyoming']\n"
     ]
    }
   ],
   "source": [
    "#unique location names\n",
    "unique_values = df['location_name'].unique()\n",
    "#here are all the location_names\n",
    "print(unique_values)"
   ]
  },
  {
   "cell_type": "code",
   "execution_count": 380,
   "id": "a5036344",
   "metadata": {},
   "outputs": [
    {
     "name": "stdout",
     "output_type": "stream",
     "text": [
      "<class 'pandas.core.frame.DataFrame'>\n",
      "Int64Index: 105 entries, 2940 to 3044\n",
      "Data columns (total 4 columns):\n",
      " #   Column         Non-Null Count  Dtype  \n",
      "---  ------         --------------  -----  \n",
      " 0   location_name  105 non-null    object \n",
      " 1   year_id        105 non-null    int64  \n",
      " 2   race_group     105 non-null    object \n",
      " 3   val            105 non-null    float64\n",
      "dtypes: float64(1), int64(1), object(2)\n",
      "memory usage: 4.1+ KB\n"
     ]
    },
    {
     "data": {
      "text/html": [
       "<div>\n",
       "<style scoped>\n",
       "    .dataframe tbody tr th:only-of-type {\n",
       "        vertical-align: middle;\n",
       "    }\n",
       "\n",
       "    .dataframe tbody tr th {\n",
       "        vertical-align: top;\n",
       "    }\n",
       "\n",
       "    .dataframe thead th {\n",
       "        text-align: right;\n",
       "    }\n",
       "</style>\n",
       "<table border=\"1\" class=\"dataframe\">\n",
       "  <thead>\n",
       "    <tr style=\"text-align: right;\">\n",
       "      <th></th>\n",
       "      <th>location_name</th>\n",
       "      <th>year_id</th>\n",
       "      <th>race_group</th>\n",
       "      <th>val</th>\n",
       "    </tr>\n",
       "  </thead>\n",
       "  <tbody>\n",
       "    <tr>\n",
       "      <th>2940</th>\n",
       "      <td>National</td>\n",
       "      <td>1999</td>\n",
       "      <td>Hispanic and any race</td>\n",
       "      <td>9.632275</td>\n",
       "    </tr>\n",
       "    <tr>\n",
       "      <th>2941</th>\n",
       "      <td>National</td>\n",
       "      <td>1999</td>\n",
       "      <td>Non-Hispanic American Indian and Alaska Native</td>\n",
       "      <td>18.967999</td>\n",
       "    </tr>\n",
       "    <tr>\n",
       "      <th>2942</th>\n",
       "      <td>National</td>\n",
       "      <td>1999</td>\n",
       "      <td>Non-Hispanic Asian, Native Hawaiian, or Other ...</td>\n",
       "      <td>9.588760</td>\n",
       "    </tr>\n",
       "    <tr>\n",
       "      <th>2943</th>\n",
       "      <td>National</td>\n",
       "      <td>1999</td>\n",
       "      <td>Non-Hispanic Black</td>\n",
       "      <td>31.430603</td>\n",
       "    </tr>\n",
       "    <tr>\n",
       "      <th>2944</th>\n",
       "      <td>National</td>\n",
       "      <td>1999</td>\n",
       "      <td>Non-Hispanic White</td>\n",
       "      <td>9.206410</td>\n",
       "    </tr>\n",
       "    <tr>\n",
       "      <th>...</th>\n",
       "      <td>...</td>\n",
       "      <td>...</td>\n",
       "      <td>...</td>\n",
       "      <td>...</td>\n",
       "    </tr>\n",
       "    <tr>\n",
       "      <th>3040</th>\n",
       "      <td>National</td>\n",
       "      <td>2019</td>\n",
       "      <td>Hispanic and any race</td>\n",
       "      <td>20.794233</td>\n",
       "    </tr>\n",
       "    <tr>\n",
       "      <th>3041</th>\n",
       "      <td>National</td>\n",
       "      <td>2019</td>\n",
       "      <td>Non-Hispanic American Indian and Alaska Native</td>\n",
       "      <td>69.277333</td>\n",
       "    </tr>\n",
       "    <tr>\n",
       "      <th>3042</th>\n",
       "      <td>National</td>\n",
       "      <td>2019</td>\n",
       "      <td>Non-Hispanic Asian, Native Hawaiian, or Other ...</td>\n",
       "      <td>20.813692</td>\n",
       "    </tr>\n",
       "    <tr>\n",
       "      <th>3043</th>\n",
       "      <td>National</td>\n",
       "      <td>2019</td>\n",
       "      <td>Non-Hispanic Black</td>\n",
       "      <td>67.630211</td>\n",
       "    </tr>\n",
       "    <tr>\n",
       "      <th>3044</th>\n",
       "      <td>National</td>\n",
       "      <td>2019</td>\n",
       "      <td>Non-Hispanic White</td>\n",
       "      <td>27.856333</td>\n",
       "    </tr>\n",
       "  </tbody>\n",
       "</table>\n",
       "<p>105 rows × 4 columns</p>\n",
       "</div>"
      ],
      "text/plain": [
       "     location_name  year_id  \\\n",
       "2940      National     1999   \n",
       "2941      National     1999   \n",
       "2942      National     1999   \n",
       "2943      National     1999   \n",
       "2944      National     1999   \n",
       "...            ...      ...   \n",
       "3040      National     2019   \n",
       "3041      National     2019   \n",
       "3042      National     2019   \n",
       "3043      National     2019   \n",
       "3044      National     2019   \n",
       "\n",
       "                                             race_group        val  \n",
       "2940                              Hispanic and any race   9.632275  \n",
       "2941     Non-Hispanic American Indian and Alaska Native  18.967999  \n",
       "2942  Non-Hispanic Asian, Native Hawaiian, or Other ...   9.588760  \n",
       "2943                                 Non-Hispanic Black  31.430603  \n",
       "2944                                 Non-Hispanic White   9.206410  \n",
       "...                                                 ...        ...  \n",
       "3040                              Hispanic and any race  20.794233  \n",
       "3041     Non-Hispanic American Indian and Alaska Native  69.277333  \n",
       "3042  Non-Hispanic Asian, Native Hawaiian, or Other ...  20.813692  \n",
       "3043                                 Non-Hispanic Black  67.630211  \n",
       "3044                                 Non-Hispanic White  27.856333  \n",
       "\n",
       "[105 rows x 4 columns]"
      ]
     },
     "execution_count": 380,
     "metadata": {},
     "output_type": "execute_result"
    }
   ],
   "source": [
    "#filter to only national data\n",
    "df_first = df[(df['location_name'] == 'National') & (df['race_group'] != 'All racial and ethnic groups')][['location_name',  'year_id', 'race_group', 'val']]\n",
    "df_first.info()\n",
    "df_first"
   ]
  },
  {
   "cell_type": "markdown",
   "id": "09908f91",
   "metadata": {},
   "source": [
    "**PART III. ANALYSIS**    \n",
    "*Ordinary Least Squares Regression*   \n",
    "Scipy was used to fit an OLS model, as I was interested in summary statistics for the OLS model, particularly p-value. Plotly was then used to visualize the OLS analysis.\n",
    "The result of the OLS are as follows:       \n",
    "\n",
    "1.  R-Squared:      \n",
    "All R-squared values are relatively high, meaning there is a strong direct correlation between the two variables.  In other words, as years increase chronologically, the MMR rate for all race/ethnicity groups increased.  *A word of caution: As the model is relatively simple with few data points, this model cannot be used to predict future MMR, but is useful to display the overall direct correlation which exists between the two variables.*       \n",
    "    \n",
    "    \n",
    "2. P-Values:     \n",
    "The p-values are <0.01 denoting statistcal significance. However since the model is simple, this is most likely inaccurate.  P-value would be necessary for a more complex model.       \n",
    "     \n",
    "     \n",
    "\n",
    "3. Slope:     \n",
    "The race category with the largest slope is Non-Hispanic American Indian and Alaska Native (2.487088), followed by\n",
    "Non-Hispanic Black (0.960705) and Non-Hispanic White (0.976694). This means that for every increase in the 'year' variable, the MMR is expected to increase by 2.48 units among the nationwide 'Non-Hispanic American Indian and Alaska Natives'.\n",
    "\n",
    "4. Residual Analysis:    \n",
    "Residual analysis conculded that the model was a poor fit, as the residuals were not distributed randomly."
   ]
  },
  {
   "cell_type": "markdown",
   "id": "e9c4b9b5",
   "metadata": {},
   "source": [
    "*Slope, Correlation Coefficent & P-value*"
   ]
  },
  {
   "cell_type": "code",
   "execution_count": 381,
   "id": "db473184",
   "metadata": {},
   "outputs": [
    {
     "data": {
      "text/html": [
       "<div>\n",
       "<style scoped>\n",
       "    .dataframe tbody tr th:only-of-type {\n",
       "        vertical-align: middle;\n",
       "    }\n",
       "\n",
       "    .dataframe tbody tr th {\n",
       "        vertical-align: top;\n",
       "    }\n",
       "\n",
       "    .dataframe thead th {\n",
       "        text-align: right;\n",
       "    }\n",
       "</style>\n",
       "<table border=\"1\" class=\"dataframe\">\n",
       "  <thead>\n",
       "    <tr style=\"text-align: right;\">\n",
       "      <th></th>\n",
       "      <th>correlation_coefficient</th>\n",
       "      <th>slope</th>\n",
       "      <th>p_value</th>\n",
       "      <th>r_squared</th>\n",
       "    </tr>\n",
       "  </thead>\n",
       "  <tbody>\n",
       "    <tr>\n",
       "      <th>Non-Hispanic American Indian and Alaska Native</th>\n",
       "      <td>0.958614</td>\n",
       "      <td>2.487088</td>\n",
       "      <td>8.072180e-12</td>\n",
       "      <td>0.918941</td>\n",
       "    </tr>\n",
       "    <tr>\n",
       "      <th>Non-Hispanic Black</th>\n",
       "      <td>0.960705</td>\n",
       "      <td>2.155194</td>\n",
       "      <td>4.973128e-12</td>\n",
       "      <td>0.922955</td>\n",
       "    </tr>\n",
       "    <tr>\n",
       "      <th>Non-Hispanic White</th>\n",
       "      <td>0.976694</td>\n",
       "      <td>1.218989</td>\n",
       "      <td>3.701650e-14</td>\n",
       "      <td>0.953932</td>\n",
       "    </tr>\n",
       "    <tr>\n",
       "      <th>Hispanic and any race</th>\n",
       "      <td>0.983602</td>\n",
       "      <td>0.669747</td>\n",
       "      <td>1.347896e-15</td>\n",
       "      <td>0.967473</td>\n",
       "    </tr>\n",
       "    <tr>\n",
       "      <th>Non-Hispanic Asian, Native Hawaiian, or Other Pacific Islander</th>\n",
       "      <td>0.911895</td>\n",
       "      <td>0.506998</td>\n",
       "      <td>8.794256e-09</td>\n",
       "      <td>0.831553</td>\n",
       "    </tr>\n",
       "  </tbody>\n",
       "</table>\n",
       "</div>"
      ],
      "text/plain": [
       "                                                    correlation_coefficient  \\\n",
       "Non-Hispanic American Indian and Alaska Native                     0.958614   \n",
       "Non-Hispanic Black                                                 0.960705   \n",
       "Non-Hispanic White                                                 0.976694   \n",
       "Hispanic and any race                                              0.983602   \n",
       "Non-Hispanic Asian, Native Hawaiian, or Other P...                 0.911895   \n",
       "\n",
       "                                                       slope       p_value  \\\n",
       "Non-Hispanic American Indian and Alaska Native      2.487088  8.072180e-12   \n",
       "Non-Hispanic Black                                  2.155194  4.973128e-12   \n",
       "Non-Hispanic White                                  1.218989  3.701650e-14   \n",
       "Hispanic and any race                               0.669747  1.347896e-15   \n",
       "Non-Hispanic Asian, Native Hawaiian, or Other P...  0.506998  8.794256e-09   \n",
       "\n",
       "                                                    r_squared  \n",
       "Non-Hispanic American Indian and Alaska Native       0.918941  \n",
       "Non-Hispanic Black                                   0.922955  \n",
       "Non-Hispanic White                                   0.953932  \n",
       "Hispanic and any race                                0.967473  \n",
       "Non-Hispanic Asian, Native Hawaiian, or Other P...   0.831553  "
      ]
     },
     "execution_count": 381,
     "metadata": {},
     "output_type": "execute_result"
    }
   ],
   "source": [
    "import pandas as pd\n",
    "import numpy as np\n",
    "from scipy.stats import linregress\n",
    "\n",
    "#dictionary \n",
    "regression_results = {}\n",
    "\n",
    "#loop race groups\n",
    "for race_group, group_data in df_first.groupby('race_group'):\n",
    "    #OLS\n",
    "    result = linregress(group_data['year_id'], group_data['val'])\n",
    "    #correlation coefficient, slope, and p-value\n",
    "    correlation_coefficient = result.rvalue\n",
    "    slope = result.slope\n",
    "    p_value = result.pvalue\n",
    "    \n",
    "    #r-squared\n",
    "    r_squared = correlation_coefficient**2\n",
    "    \n",
    "    #stored statistics\n",
    "    regression_results[race_group] = {\n",
    "        'correlation_coefficient': correlation_coefficient,\n",
    "        'slope': slope,\n",
    "        'p_value': p_value,\n",
    "        'r_squared': r_squared\n",
    "    }\n",
    "\n",
    "#place into df\n",
    "df_results = pd.DataFrame(regression_results).T\n",
    "\n",
    "#order by slope\n",
    "df_results=df_results.sort_values(by='slope', ascending=False)\n",
    "df_results"
   ]
  },
  {
   "cell_type": "markdown",
   "id": "0b717bf1",
   "metadata": {},
   "source": [
    "*Plot*"
   ]
  },
  {
   "cell_type": "code",
   "execution_count": 382,
   "id": "f9011ab6",
   "metadata": {},
   "outputs": [
    {
     "data": {
      "application/vnd.plotly.v1+json": {
       "config": {
        "plotlyServerURL": "https://plot.ly"
       },
       "data": [
        {
         "hovertemplate": "race_group=Hispanic and any race<br>year_id=%{x}<br>Value=%{y}<extra></extra>",
         "legendgroup": "Hispanic and any race",
         "marker": {
          "color": "#636efa",
          "opacity": 0.3,
          "symbol": "circle"
         },
         "mode": "markers",
         "name": "Hispanic and any race",
         "orientation": "v",
         "showlegend": true,
         "type": "scatter",
         "x": [
          1999,
          2000,
          2001,
          2002,
          2003,
          2004,
          2005,
          2006,
          2007,
          2008,
          2009,
          2010,
          2011,
          2012,
          2013,
          2014,
          2015,
          2016,
          2017,
          2018,
          2019
         ],
         "xaxis": "x",
         "y": [
          9.632274811,
          9.989900298,
          10.53581586,
          11.24440489,
          12.06477725,
          12.95378955,
          13.93612927,
          14.80491374,
          15.59659469,
          16.48255863,
          17.37582693,
          17.84389839,
          17.60649357,
          17.76310586,
          18.71395214,
          20.30104358,
          21.36430143,
          21.96395005,
          22.33574319,
          22.07315215,
          20.79423258
         ],
         "yaxis": "y"
        },
        {
         "hovertemplate": "<b>OLS trendline</b><br>val = 0.669747 * year_id + -1329.08<br>R<sup>2</sup>=0.967473<br><br>race_group=Hispanic and any race<br>year_id=%{x}<br>Value=%{y} <b>(trend)</b><extra></extra>",
         "legendgroup": "Hispanic and any race",
         "marker": {
          "color": "#636efa",
          "symbol": "circle"
         },
         "mode": "lines",
         "name": "Hispanic and any race",
         "showlegend": false,
         "type": "scatter",
         "x": [
          1999,
          2000,
          2001,
          2002,
          2003,
          2004,
          2005,
          2006,
          2007,
          2008,
          2009,
          2010,
          2011,
          2012,
          2013,
          2014,
          2015,
          2016,
          2017,
          2018,
          2019
         ],
         "xaxis": "x",
         "y": [
          9.749043066342892,
          10.418790468560928,
          11.088537870779192,
          11.758285272997227,
          12.42803267521549,
          13.097780077433526,
          13.76752747965179,
          14.437274881870053,
          15.107022284088089,
          15.776769686306352,
          16.446517088524388,
          17.11626449074265,
          17.786011892960914,
          18.45575929517895,
          19.125506697397213,
          19.79525409961525,
          20.465001501833513,
          21.13474890405155,
          21.80449630626981,
          22.474243708488075,
          23.14399111070611
         ],
         "yaxis": "y"
        },
        {
         "hovertemplate": "race_group=Non-Hispanic American Indian and Alaska Native<br>year_id=%{x}<br>Value=%{y}<extra></extra>",
         "legendgroup": "Non-Hispanic American Indian and Alaska Native",
         "marker": {
          "color": "#EF553B",
          "opacity": 0.3,
          "symbol": "circle"
         },
         "mode": "markers",
         "name": "Non-Hispanic American Indian and Alaska Native",
         "orientation": "v",
         "showlegend": true,
         "type": "scatter",
         "x": [
          1999,
          2000,
          2001,
          2002,
          2003,
          2004,
          2005,
          2006,
          2007,
          2008,
          2009,
          2010,
          2011,
          2012,
          2013,
          2014,
          2015,
          2016,
          2017,
          2018,
          2019
         ],
         "xaxis": "x",
         "y": [
          18.96799925,
          14.38180008,
          12.97285087,
          13.87635396,
          16.43284931,
          20.49807955,
          26.81909185,
          32.12306167,
          33.99840653,
          33.64257838,
          35.80147348,
          40.31907189,
          46.45990104,
          50.28624263,
          50.98723098,
          49.98166597,
          49.1007457,
          48.01719533,
          48.59164004,
          54.58641092,
          69.27733343
         ],
         "yaxis": "y"
        },
        {
         "hovertemplate": "<b>OLS trendline</b><br>val = 2.48709 * year_id + -4960.03<br>R<sup>2</sup>=0.918941<br><br>race_group=Non-Hispanic American Indian and Alaska Native<br>year_id=%{x}<br>Value=%{y} <b>(trend)</b><extra></extra>",
         "legendgroup": "Non-Hispanic American Indian and Alaska Native",
         "marker": {
          "color": "#EF553B",
          "symbol": "circle"
         },
         "mode": "lines",
         "name": "Non-Hispanic American Indian and Alaska Native",
         "showlegend": false,
         "type": "scatter",
         "x": [
          1999,
          2000,
          2001,
          2002,
          2003,
          2004,
          2005,
          2006,
          2007,
          2008,
          2009,
          2010,
          2011,
          2012,
          2013,
          2014,
          2015,
          2016,
          2017,
          2018,
          2019
         ],
         "xaxis": "x",
         "y": [
          11.658735962859282,
          14.145824189716222,
          16.632912416573163,
          19.120000643430103,
          21.607088870287043,
          24.094177097144893,
          26.581265324001834,
          29.068353550858774,
          31.555441777715714,
          34.042530004572654,
          36.529618231429595,
          39.016706458286535,
          41.503794685144385,
          43.990882912001325,
          46.477971138858265,
          48.965059365715206,
          51.452147592572146,
          53.939235819429086,
          56.42632404628603,
          58.91341227314388,
          61.40050050000082
         ],
         "yaxis": "y"
        },
        {
         "hovertemplate": "race_group=Non-Hispanic Asian, Native Hawaiian, or Other Pacific Islander<br>year_id=%{x}<br>Value=%{y}<extra></extra>",
         "legendgroup": "Non-Hispanic Asian, Native Hawaiian, or Other Pacific Islander",
         "marker": {
          "color": "#00cc96",
          "opacity": 0.3,
          "symbol": "circle"
         },
         "mode": "markers",
         "name": "Non-Hispanic Asian, Native Hawaiian, or Other Pacific Islander",
         "orientation": "v",
         "showlegend": true,
         "type": "scatter",
         "x": [
          1999,
          2000,
          2001,
          2002,
          2003,
          2004,
          2005,
          2006,
          2007,
          2008,
          2009,
          2010,
          2011,
          2012,
          2013,
          2014,
          2015,
          2016,
          2017,
          2018,
          2019
         ],
         "xaxis": "x",
         "y": [
          9.588760253,
          9.187102171,
          9.65997467,
          10.69326044,
          12.22262788,
          14.06319217,
          16.13091867,
          17.37905583,
          17.27950765,
          16.16828868,
          15.56601261,
          15.52443671,
          15.80819545,
          16.31607538,
          17.1337338,
          18.18091432,
          18.72898521,
          18.7310295,
          18.73440876,
          19.45565486,
          20.81369173
         ],
         "yaxis": "y"
        },
        {
         "hovertemplate": "<b>OLS trendline</b><br>val = 0.506998 * year_id + -1002.97<br>R<sup>2</sup>=0.831553<br><br>race_group=Non-Hispanic Asian, Native Hawaiian, or Other Pacific Islander<br>year_id=%{x}<br>Value=%{y} <b>(trend)</b><extra></extra>",
         "legendgroup": "Non-Hispanic Asian, Native Hawaiian, or Other Pacific Islander",
         "marker": {
          "color": "#00cc96",
          "symbol": "circle"
         },
         "mode": "lines",
         "name": "Non-Hispanic Asian, Native Hawaiian, or Other Pacific Islander",
         "showlegend": false,
         "type": "scatter",
         "x": [
          1999,
          2000,
          2001,
          2002,
          2003,
          2004,
          2005,
          2006,
          2007,
          2008,
          2009,
          2010,
          2011,
          2012,
          2013,
          2014,
          2015,
          2016,
          2017,
          2018,
          2019
         ],
         "xaxis": "x",
         "y": [
          10.51886522190955,
          11.025863588975767,
          11.532861956042098,
          12.039860323108314,
          12.546858690174531,
          13.053857057240748,
          13.560855424306965,
          14.067853791373182,
          14.574852158439398,
          15.081850525505615,
          15.588848892571832,
          16.09584725963805,
          16.602845626704266,
          17.109843993770482,
          17.6168423608367,
          18.123840727902916,
          18.630839094969247,
          19.137837462035463,
          19.64483582910168,
          20.151834196167897,
          20.658832563234114
         ],
         "yaxis": "y"
        },
        {
         "hovertemplate": "race_group=Non-Hispanic Black<br>year_id=%{x}<br>Value=%{y}<extra></extra>",
         "legendgroup": "Non-Hispanic Black",
         "marker": {
          "color": "#ab63fa",
          "opacity": 0.3,
          "symbol": "circle"
         },
         "mode": "markers",
         "name": "Non-Hispanic Black",
         "orientation": "v",
         "showlegend": true,
         "type": "scatter",
         "x": [
          1999,
          2000,
          2001,
          2002,
          2003,
          2004,
          2005,
          2006,
          2007,
          2008,
          2009,
          2010,
          2011,
          2012,
          2013,
          2014,
          2015,
          2016,
          2017,
          2018,
          2019
         ],
         "xaxis": "x",
         "y": [
          31.43060339,
          28.49250417,
          29.99951025,
          35.66400134,
          42.06879943,
          46.36857696,
          47.90422822,
          47.84130388,
          47.52540656,
          47.82935462,
          49.88579935,
          53.31115904,
          57.25216944,
          61.10684263,
          65.35981687,
          69.64882709,
          71.22633902,
          69.63712947,
          66.84677242,
          66.16058112,
          67.63021141
         ],
         "yaxis": "y"
        },
        {
         "hovertemplate": "<b>OLS trendline</b><br>val = 2.15519 * year_id + -4277.25<br>R<sup>2</sup>=0.922955<br><br>race_group=Non-Hispanic Black<br>year_id=%{x}<br>Value=%{y} <b>(trend)</b><extra></extra>",
         "legendgroup": "Non-Hispanic Black",
         "marker": {
          "color": "#ab63fa",
          "symbol": "circle"
         },
         "mode": "lines",
         "name": "Non-Hispanic Black",
         "showlegend": false,
         "type": "scatter",
         "x": [
          1999,
          2000,
          2001,
          2002,
          2003,
          2004,
          2005,
          2006,
          2007,
          2008,
          2009,
          2010,
          2011,
          2012,
          2013,
          2014,
          2015,
          2016,
          2017,
          2018,
          2019
         ],
         "xaxis": "x",
         "y": [
          30.980911838789325,
          33.1361060676727,
          35.291300296556074,
          37.44649452543854,
          39.60168875432191,
          41.75688298320529,
          43.91207721208775,
          46.067271440971126,
          48.2224656698545,
          50.377659898736965,
          52.53285412762034,
          54.688048356503714,
          56.84324258538618,
          58.99843681426955,
          61.15363104315293,
          63.30882527203539,
          65.46401950091877,
          67.61921372980214,
          69.7744079586846,
          71.92960218756798,
          74.08479641645135
         ],
         "yaxis": "y"
        },
        {
         "hovertemplate": "race_group=Non-Hispanic White<br>year_id=%{x}<br>Value=%{y}<extra></extra>",
         "legendgroup": "Non-Hispanic White",
         "marker": {
          "color": "#FFA15A",
          "opacity": 0.3,
          "symbol": "circle"
         },
         "mode": "markers",
         "name": "Non-Hispanic White",
         "orientation": "v",
         "showlegend": true,
         "type": "scatter",
         "x": [
          1999,
          2000,
          2001,
          2002,
          2003,
          2004,
          2005,
          2006,
          2007,
          2008,
          2009,
          2010,
          2011,
          2012,
          2013,
          2014,
          2015,
          2016,
          2017,
          2018,
          2019
         ],
         "xaxis": "x",
         "y": [
          9.206409656,
          8.414643143,
          8.816738756,
          10.51569508,
          12.70087233,
          14.56315943,
          15.8848099,
          16.90471545,
          17.88357352,
          18.97405446,
          20.40980324,
          22.02935916,
          23.56932162,
          25.14991982,
          27.04220406,
          29.09011245,
          30.1970982,
          30.24331377,
          29.6749794,
          29.05452121,
          27.85633306
         ],
         "yaxis": "y"
        },
        {
         "hovertemplate": "<b>OLS trendline</b><br>val = 1.21899 * year_id + -2428.56<br>R<sup>2</sup>=0.953932<br><br>race_group=Non-Hispanic White<br>year_id=%{x}<br>Value=%{y} <b>(trend)</b><extra></extra>",
         "legendgroup": "Non-Hispanic White",
         "marker": {
          "color": "#FFA15A",
          "symbol": "circle"
         },
         "mode": "lines",
         "name": "Non-Hispanic White",
         "showlegend": false,
         "type": "scatter",
         "x": [
          1999,
          2000,
          2001,
          2002,
          2003,
          2004,
          2005,
          2006,
          2007,
          2008,
          2009,
          2010,
          2011,
          2012,
          2013,
          2014,
          2015,
          2016,
          2017,
          2018,
          2019
         ],
         "xaxis": "x",
         "y": [
          8.199712138875839,
          9.41870110458376,
          10.637690070291228,
          11.85667903599915,
          13.075668001707072,
          14.29465696741454,
          15.513645933122461,
          16.732634898830383,
          17.95162386453785,
          19.170612830245773,
          20.389601795953695,
          21.608590761661162,
          22.827579727369084,
          24.04656869307655,
          25.265557658784473,
          26.484546624492395,
          27.703535590199863,
          28.922524555907785,
          30.141513521615707,
          31.360502487323174,
          32.579491453031096
         ],
         "yaxis": "y"
        }
       ],
       "layout": {
        "legend": {
         "title": {
          "text": "race_group"
         },
         "tracegroupgap": 0
        },
        "template": {
         "data": {
          "bar": [
           {
            "error_x": {
             "color": "#2a3f5f"
            },
            "error_y": {
             "color": "#2a3f5f"
            },
            "marker": {
             "line": {
              "color": "#E5ECF6",
              "width": 0.5
             },
             "pattern": {
              "fillmode": "overlay",
              "size": 10,
              "solidity": 0.2
             }
            },
            "type": "bar"
           }
          ],
          "barpolar": [
           {
            "marker": {
             "line": {
              "color": "#E5ECF6",
              "width": 0.5
             },
             "pattern": {
              "fillmode": "overlay",
              "size": 10,
              "solidity": 0.2
             }
            },
            "type": "barpolar"
           }
          ],
          "carpet": [
           {
            "aaxis": {
             "endlinecolor": "#2a3f5f",
             "gridcolor": "white",
             "linecolor": "white",
             "minorgridcolor": "white",
             "startlinecolor": "#2a3f5f"
            },
            "baxis": {
             "endlinecolor": "#2a3f5f",
             "gridcolor": "white",
             "linecolor": "white",
             "minorgridcolor": "white",
             "startlinecolor": "#2a3f5f"
            },
            "type": "carpet"
           }
          ],
          "choropleth": [
           {
            "colorbar": {
             "outlinewidth": 0,
             "ticks": ""
            },
            "type": "choropleth"
           }
          ],
          "contour": [
           {
            "colorbar": {
             "outlinewidth": 0,
             "ticks": ""
            },
            "colorscale": [
             [
              0,
              "#0d0887"
             ],
             [
              0.1111111111111111,
              "#46039f"
             ],
             [
              0.2222222222222222,
              "#7201a8"
             ],
             [
              0.3333333333333333,
              "#9c179e"
             ],
             [
              0.4444444444444444,
              "#bd3786"
             ],
             [
              0.5555555555555556,
              "#d8576b"
             ],
             [
              0.6666666666666666,
              "#ed7953"
             ],
             [
              0.7777777777777778,
              "#fb9f3a"
             ],
             [
              0.8888888888888888,
              "#fdca26"
             ],
             [
              1,
              "#f0f921"
             ]
            ],
            "type": "contour"
           }
          ],
          "contourcarpet": [
           {
            "colorbar": {
             "outlinewidth": 0,
             "ticks": ""
            },
            "type": "contourcarpet"
           }
          ],
          "heatmap": [
           {
            "colorbar": {
             "outlinewidth": 0,
             "ticks": ""
            },
            "colorscale": [
             [
              0,
              "#0d0887"
             ],
             [
              0.1111111111111111,
              "#46039f"
             ],
             [
              0.2222222222222222,
              "#7201a8"
             ],
             [
              0.3333333333333333,
              "#9c179e"
             ],
             [
              0.4444444444444444,
              "#bd3786"
             ],
             [
              0.5555555555555556,
              "#d8576b"
             ],
             [
              0.6666666666666666,
              "#ed7953"
             ],
             [
              0.7777777777777778,
              "#fb9f3a"
             ],
             [
              0.8888888888888888,
              "#fdca26"
             ],
             [
              1,
              "#f0f921"
             ]
            ],
            "type": "heatmap"
           }
          ],
          "heatmapgl": [
           {
            "colorbar": {
             "outlinewidth": 0,
             "ticks": ""
            },
            "colorscale": [
             [
              0,
              "#0d0887"
             ],
             [
              0.1111111111111111,
              "#46039f"
             ],
             [
              0.2222222222222222,
              "#7201a8"
             ],
             [
              0.3333333333333333,
              "#9c179e"
             ],
             [
              0.4444444444444444,
              "#bd3786"
             ],
             [
              0.5555555555555556,
              "#d8576b"
             ],
             [
              0.6666666666666666,
              "#ed7953"
             ],
             [
              0.7777777777777778,
              "#fb9f3a"
             ],
             [
              0.8888888888888888,
              "#fdca26"
             ],
             [
              1,
              "#f0f921"
             ]
            ],
            "type": "heatmapgl"
           }
          ],
          "histogram": [
           {
            "marker": {
             "pattern": {
              "fillmode": "overlay",
              "size": 10,
              "solidity": 0.2
             }
            },
            "type": "histogram"
           }
          ],
          "histogram2d": [
           {
            "colorbar": {
             "outlinewidth": 0,
             "ticks": ""
            },
            "colorscale": [
             [
              0,
              "#0d0887"
             ],
             [
              0.1111111111111111,
              "#46039f"
             ],
             [
              0.2222222222222222,
              "#7201a8"
             ],
             [
              0.3333333333333333,
              "#9c179e"
             ],
             [
              0.4444444444444444,
              "#bd3786"
             ],
             [
              0.5555555555555556,
              "#d8576b"
             ],
             [
              0.6666666666666666,
              "#ed7953"
             ],
             [
              0.7777777777777778,
              "#fb9f3a"
             ],
             [
              0.8888888888888888,
              "#fdca26"
             ],
             [
              1,
              "#f0f921"
             ]
            ],
            "type": "histogram2d"
           }
          ],
          "histogram2dcontour": [
           {
            "colorbar": {
             "outlinewidth": 0,
             "ticks": ""
            },
            "colorscale": [
             [
              0,
              "#0d0887"
             ],
             [
              0.1111111111111111,
              "#46039f"
             ],
             [
              0.2222222222222222,
              "#7201a8"
             ],
             [
              0.3333333333333333,
              "#9c179e"
             ],
             [
              0.4444444444444444,
              "#bd3786"
             ],
             [
              0.5555555555555556,
              "#d8576b"
             ],
             [
              0.6666666666666666,
              "#ed7953"
             ],
             [
              0.7777777777777778,
              "#fb9f3a"
             ],
             [
              0.8888888888888888,
              "#fdca26"
             ],
             [
              1,
              "#f0f921"
             ]
            ],
            "type": "histogram2dcontour"
           }
          ],
          "mesh3d": [
           {
            "colorbar": {
             "outlinewidth": 0,
             "ticks": ""
            },
            "type": "mesh3d"
           }
          ],
          "parcoords": [
           {
            "line": {
             "colorbar": {
              "outlinewidth": 0,
              "ticks": ""
             }
            },
            "type": "parcoords"
           }
          ],
          "pie": [
           {
            "automargin": true,
            "type": "pie"
           }
          ],
          "scatter": [
           {
            "fillpattern": {
             "fillmode": "overlay",
             "size": 10,
             "solidity": 0.2
            },
            "type": "scatter"
           }
          ],
          "scatter3d": [
           {
            "line": {
             "colorbar": {
              "outlinewidth": 0,
              "ticks": ""
             }
            },
            "marker": {
             "colorbar": {
              "outlinewidth": 0,
              "ticks": ""
             }
            },
            "type": "scatter3d"
           }
          ],
          "scattercarpet": [
           {
            "marker": {
             "colorbar": {
              "outlinewidth": 0,
              "ticks": ""
             }
            },
            "type": "scattercarpet"
           }
          ],
          "scattergeo": [
           {
            "marker": {
             "colorbar": {
              "outlinewidth": 0,
              "ticks": ""
             }
            },
            "type": "scattergeo"
           }
          ],
          "scattergl": [
           {
            "marker": {
             "colorbar": {
              "outlinewidth": 0,
              "ticks": ""
             }
            },
            "type": "scattergl"
           }
          ],
          "scattermapbox": [
           {
            "marker": {
             "colorbar": {
              "outlinewidth": 0,
              "ticks": ""
             }
            },
            "type": "scattermapbox"
           }
          ],
          "scatterpolar": [
           {
            "marker": {
             "colorbar": {
              "outlinewidth": 0,
              "ticks": ""
             }
            },
            "type": "scatterpolar"
           }
          ],
          "scatterpolargl": [
           {
            "marker": {
             "colorbar": {
              "outlinewidth": 0,
              "ticks": ""
             }
            },
            "type": "scatterpolargl"
           }
          ],
          "scatterternary": [
           {
            "marker": {
             "colorbar": {
              "outlinewidth": 0,
              "ticks": ""
             }
            },
            "type": "scatterternary"
           }
          ],
          "surface": [
           {
            "colorbar": {
             "outlinewidth": 0,
             "ticks": ""
            },
            "colorscale": [
             [
              0,
              "#0d0887"
             ],
             [
              0.1111111111111111,
              "#46039f"
             ],
             [
              0.2222222222222222,
              "#7201a8"
             ],
             [
              0.3333333333333333,
              "#9c179e"
             ],
             [
              0.4444444444444444,
              "#bd3786"
             ],
             [
              0.5555555555555556,
              "#d8576b"
             ],
             [
              0.6666666666666666,
              "#ed7953"
             ],
             [
              0.7777777777777778,
              "#fb9f3a"
             ],
             [
              0.8888888888888888,
              "#fdca26"
             ],
             [
              1,
              "#f0f921"
             ]
            ],
            "type": "surface"
           }
          ],
          "table": [
           {
            "cells": {
             "fill": {
              "color": "#EBF0F8"
             },
             "line": {
              "color": "white"
             }
            },
            "header": {
             "fill": {
              "color": "#C8D4E3"
             },
             "line": {
              "color": "white"
             }
            },
            "type": "table"
           }
          ]
         },
         "layout": {
          "annotationdefaults": {
           "arrowcolor": "#2a3f5f",
           "arrowhead": 0,
           "arrowwidth": 1
          },
          "autotypenumbers": "strict",
          "coloraxis": {
           "colorbar": {
            "outlinewidth": 0,
            "ticks": ""
           }
          },
          "colorscale": {
           "diverging": [
            [
             0,
             "#8e0152"
            ],
            [
             0.1,
             "#c51b7d"
            ],
            [
             0.2,
             "#de77ae"
            ],
            [
             0.3,
             "#f1b6da"
            ],
            [
             0.4,
             "#fde0ef"
            ],
            [
             0.5,
             "#f7f7f7"
            ],
            [
             0.6,
             "#e6f5d0"
            ],
            [
             0.7,
             "#b8e186"
            ],
            [
             0.8,
             "#7fbc41"
            ],
            [
             0.9,
             "#4d9221"
            ],
            [
             1,
             "#276419"
            ]
           ],
           "sequential": [
            [
             0,
             "#0d0887"
            ],
            [
             0.1111111111111111,
             "#46039f"
            ],
            [
             0.2222222222222222,
             "#7201a8"
            ],
            [
             0.3333333333333333,
             "#9c179e"
            ],
            [
             0.4444444444444444,
             "#bd3786"
            ],
            [
             0.5555555555555556,
             "#d8576b"
            ],
            [
             0.6666666666666666,
             "#ed7953"
            ],
            [
             0.7777777777777778,
             "#fb9f3a"
            ],
            [
             0.8888888888888888,
             "#fdca26"
            ],
            [
             1,
             "#f0f921"
            ]
           ],
           "sequentialminus": [
            [
             0,
             "#0d0887"
            ],
            [
             0.1111111111111111,
             "#46039f"
            ],
            [
             0.2222222222222222,
             "#7201a8"
            ],
            [
             0.3333333333333333,
             "#9c179e"
            ],
            [
             0.4444444444444444,
             "#bd3786"
            ],
            [
             0.5555555555555556,
             "#d8576b"
            ],
            [
             0.6666666666666666,
             "#ed7953"
            ],
            [
             0.7777777777777778,
             "#fb9f3a"
            ],
            [
             0.8888888888888888,
             "#fdca26"
            ],
            [
             1,
             "#f0f921"
            ]
           ]
          },
          "colorway": [
           "#636efa",
           "#EF553B",
           "#00cc96",
           "#ab63fa",
           "#FFA15A",
           "#19d3f3",
           "#FF6692",
           "#B6E880",
           "#FF97FF",
           "#FECB52"
          ],
          "font": {
           "color": "#2a3f5f"
          },
          "geo": {
           "bgcolor": "white",
           "lakecolor": "white",
           "landcolor": "#E5ECF6",
           "showlakes": true,
           "showland": true,
           "subunitcolor": "white"
          },
          "hoverlabel": {
           "align": "left"
          },
          "hovermode": "closest",
          "mapbox": {
           "style": "light"
          },
          "paper_bgcolor": "white",
          "plot_bgcolor": "#E5ECF6",
          "polar": {
           "angularaxis": {
            "gridcolor": "white",
            "linecolor": "white",
            "ticks": ""
           },
           "bgcolor": "#E5ECF6",
           "radialaxis": {
            "gridcolor": "white",
            "linecolor": "white",
            "ticks": ""
           }
          },
          "scene": {
           "xaxis": {
            "backgroundcolor": "#E5ECF6",
            "gridcolor": "white",
            "gridwidth": 2,
            "linecolor": "white",
            "showbackground": true,
            "ticks": "",
            "zerolinecolor": "white"
           },
           "yaxis": {
            "backgroundcolor": "#E5ECF6",
            "gridcolor": "white",
            "gridwidth": 2,
            "linecolor": "white",
            "showbackground": true,
            "ticks": "",
            "zerolinecolor": "white"
           },
           "zaxis": {
            "backgroundcolor": "#E5ECF6",
            "gridcolor": "white",
            "gridwidth": 2,
            "linecolor": "white",
            "showbackground": true,
            "ticks": "",
            "zerolinecolor": "white"
           }
          },
          "shapedefaults": {
           "line": {
            "color": "#2a3f5f"
           }
          },
          "ternary": {
           "aaxis": {
            "gridcolor": "white",
            "linecolor": "white",
            "ticks": ""
           },
           "baxis": {
            "gridcolor": "white",
            "linecolor": "white",
            "ticks": ""
           },
           "bgcolor": "#E5ECF6",
           "caxis": {
            "gridcolor": "white",
            "linecolor": "white",
            "ticks": ""
           }
          },
          "title": {
           "x": 0.05
          },
          "xaxis": {
           "automargin": true,
           "gridcolor": "white",
           "linecolor": "white",
           "ticks": "",
           "title": {
            "standoff": 15
           },
           "zerolinecolor": "white",
           "zerolinewidth": 2
          },
          "yaxis": {
           "automargin": true,
           "gridcolor": "white",
           "linecolor": "white",
           "ticks": "",
           "title": {
            "standoff": 15
           },
           "zerolinecolor": "white",
           "zerolinewidth": 2
          }
         }
        },
        "title": {
         "text": "MMR Over Time by Race Group"
        },
        "xaxis": {
         "anchor": "y",
         "domain": [
          0,
          1
         ],
         "title": {
          "text": "year_id"
         }
        },
        "yaxis": {
         "anchor": "x",
         "domain": [
          0,
          1
         ],
         "title": {
          "text": "Value"
         }
        }
       }
      },
      "text/html": [
       "<div>                            <div id=\"576db16b-58ae-4d57-bc10-731184b5b7b9\" class=\"plotly-graph-div\" style=\"height:525px; width:100%;\"></div>            <script type=\"text/javascript\">                require([\"plotly\"], function(Plotly) {                    window.PLOTLYENV=window.PLOTLYENV || {};                                    if (document.getElementById(\"576db16b-58ae-4d57-bc10-731184b5b7b9\")) {                    Plotly.newPlot(                        \"576db16b-58ae-4d57-bc10-731184b5b7b9\",                        [{\"hovertemplate\":\"race_group=Hispanic and any race<br>year_id=%{x}<br>Value=%{y}<extra></extra>\",\"legendgroup\":\"Hispanic and any race\",\"marker\":{\"color\":\"#636efa\",\"opacity\":0.3,\"symbol\":\"circle\"},\"mode\":\"markers\",\"name\":\"Hispanic and any race\",\"orientation\":\"v\",\"showlegend\":true,\"x\":[1999,2000,2001,2002,2003,2004,2005,2006,2007,2008,2009,2010,2011,2012,2013,2014,2015,2016,2017,2018,2019],\"xaxis\":\"x\",\"y\":[9.632274811,9.989900298,10.53581586,11.24440489,12.06477725,12.95378955,13.93612927,14.80491374,15.59659469,16.48255863,17.37582693,17.84389839,17.60649357,17.76310586,18.71395214,20.30104358,21.36430143,21.96395005,22.33574319,22.07315215,20.79423258],\"yaxis\":\"y\",\"type\":\"scatter\"},{\"hovertemplate\":\"<b>OLS trendline</b><br>val = 0.669747 * year_id + -1329.08<br>R<sup>2</sup>=0.967473<br><br>race_group=Hispanic and any race<br>year_id=%{x}<br>Value=%{y} <b>(trend)</b><extra></extra>\",\"legendgroup\":\"Hispanic and any race\",\"marker\":{\"color\":\"#636efa\",\"symbol\":\"circle\"},\"mode\":\"lines\",\"name\":\"Hispanic and any race\",\"showlegend\":false,\"x\":[1999,2000,2001,2002,2003,2004,2005,2006,2007,2008,2009,2010,2011,2012,2013,2014,2015,2016,2017,2018,2019],\"xaxis\":\"x\",\"y\":[9.749043066342892,10.418790468560928,11.088537870779192,11.758285272997227,12.42803267521549,13.097780077433526,13.76752747965179,14.437274881870053,15.107022284088089,15.776769686306352,16.446517088524388,17.11626449074265,17.786011892960914,18.45575929517895,19.125506697397213,19.79525409961525,20.465001501833513,21.13474890405155,21.80449630626981,22.474243708488075,23.14399111070611],\"yaxis\":\"y\",\"type\":\"scatter\"},{\"hovertemplate\":\"race_group=Non-Hispanic American Indian and Alaska Native<br>year_id=%{x}<br>Value=%{y}<extra></extra>\",\"legendgroup\":\"Non-Hispanic American Indian and Alaska Native\",\"marker\":{\"color\":\"#EF553B\",\"opacity\":0.3,\"symbol\":\"circle\"},\"mode\":\"markers\",\"name\":\"Non-Hispanic American Indian and Alaska Native\",\"orientation\":\"v\",\"showlegend\":true,\"x\":[1999,2000,2001,2002,2003,2004,2005,2006,2007,2008,2009,2010,2011,2012,2013,2014,2015,2016,2017,2018,2019],\"xaxis\":\"x\",\"y\":[18.96799925,14.38180008,12.97285087,13.87635396,16.43284931,20.49807955,26.81909185,32.12306167,33.99840653,33.64257838,35.80147348,40.31907189,46.45990104,50.28624263,50.98723098,49.98166597,49.1007457,48.01719533,48.59164004,54.58641092,69.27733343],\"yaxis\":\"y\",\"type\":\"scatter\"},{\"hovertemplate\":\"<b>OLS trendline</b><br>val = 2.48709 * year_id + -4960.03<br>R<sup>2</sup>=0.918941<br><br>race_group=Non-Hispanic American Indian and Alaska Native<br>year_id=%{x}<br>Value=%{y} <b>(trend)</b><extra></extra>\",\"legendgroup\":\"Non-Hispanic American Indian and Alaska Native\",\"marker\":{\"color\":\"#EF553B\",\"symbol\":\"circle\"},\"mode\":\"lines\",\"name\":\"Non-Hispanic American Indian and Alaska Native\",\"showlegend\":false,\"x\":[1999,2000,2001,2002,2003,2004,2005,2006,2007,2008,2009,2010,2011,2012,2013,2014,2015,2016,2017,2018,2019],\"xaxis\":\"x\",\"y\":[11.658735962859282,14.145824189716222,16.632912416573163,19.120000643430103,21.607088870287043,24.094177097144893,26.581265324001834,29.068353550858774,31.555441777715714,34.042530004572654,36.529618231429595,39.016706458286535,41.503794685144385,43.990882912001325,46.477971138858265,48.965059365715206,51.452147592572146,53.939235819429086,56.42632404628603,58.91341227314388,61.40050050000082],\"yaxis\":\"y\",\"type\":\"scatter\"},{\"hovertemplate\":\"race_group=Non-Hispanic Asian, Native Hawaiian, or Other Pacific Islander<br>year_id=%{x}<br>Value=%{y}<extra></extra>\",\"legendgroup\":\"Non-Hispanic Asian, Native Hawaiian, or Other Pacific Islander\",\"marker\":{\"color\":\"#00cc96\",\"opacity\":0.3,\"symbol\":\"circle\"},\"mode\":\"markers\",\"name\":\"Non-Hispanic Asian, Native Hawaiian, or Other Pacific Islander\",\"orientation\":\"v\",\"showlegend\":true,\"x\":[1999,2000,2001,2002,2003,2004,2005,2006,2007,2008,2009,2010,2011,2012,2013,2014,2015,2016,2017,2018,2019],\"xaxis\":\"x\",\"y\":[9.588760253,9.187102171,9.65997467,10.69326044,12.22262788,14.06319217,16.13091867,17.37905583,17.27950765,16.16828868,15.56601261,15.52443671,15.80819545,16.31607538,17.1337338,18.18091432,18.72898521,18.7310295,18.73440876,19.45565486,20.81369173],\"yaxis\":\"y\",\"type\":\"scatter\"},{\"hovertemplate\":\"<b>OLS trendline</b><br>val = 0.506998 * year_id + -1002.97<br>R<sup>2</sup>=0.831553<br><br>race_group=Non-Hispanic Asian, Native Hawaiian, or Other Pacific Islander<br>year_id=%{x}<br>Value=%{y} <b>(trend)</b><extra></extra>\",\"legendgroup\":\"Non-Hispanic Asian, Native Hawaiian, or Other Pacific Islander\",\"marker\":{\"color\":\"#00cc96\",\"symbol\":\"circle\"},\"mode\":\"lines\",\"name\":\"Non-Hispanic Asian, Native Hawaiian, or Other Pacific Islander\",\"showlegend\":false,\"x\":[1999,2000,2001,2002,2003,2004,2005,2006,2007,2008,2009,2010,2011,2012,2013,2014,2015,2016,2017,2018,2019],\"xaxis\":\"x\",\"y\":[10.51886522190955,11.025863588975767,11.532861956042098,12.039860323108314,12.546858690174531,13.053857057240748,13.560855424306965,14.067853791373182,14.574852158439398,15.081850525505615,15.588848892571832,16.09584725963805,16.602845626704266,17.109843993770482,17.6168423608367,18.123840727902916,18.630839094969247,19.137837462035463,19.64483582910168,20.151834196167897,20.658832563234114],\"yaxis\":\"y\",\"type\":\"scatter\"},{\"hovertemplate\":\"race_group=Non-Hispanic Black<br>year_id=%{x}<br>Value=%{y}<extra></extra>\",\"legendgroup\":\"Non-Hispanic Black\",\"marker\":{\"color\":\"#ab63fa\",\"opacity\":0.3,\"symbol\":\"circle\"},\"mode\":\"markers\",\"name\":\"Non-Hispanic Black\",\"orientation\":\"v\",\"showlegend\":true,\"x\":[1999,2000,2001,2002,2003,2004,2005,2006,2007,2008,2009,2010,2011,2012,2013,2014,2015,2016,2017,2018,2019],\"xaxis\":\"x\",\"y\":[31.43060339,28.49250417,29.99951025,35.66400134,42.06879943,46.36857696,47.90422822,47.84130388,47.52540656,47.82935462,49.88579935,53.31115904,57.25216944,61.10684263,65.35981687,69.64882709,71.22633902,69.63712947,66.84677242,66.16058112,67.63021141],\"yaxis\":\"y\",\"type\":\"scatter\"},{\"hovertemplate\":\"<b>OLS trendline</b><br>val = 2.15519 * year_id + -4277.25<br>R<sup>2</sup>=0.922955<br><br>race_group=Non-Hispanic Black<br>year_id=%{x}<br>Value=%{y} <b>(trend)</b><extra></extra>\",\"legendgroup\":\"Non-Hispanic Black\",\"marker\":{\"color\":\"#ab63fa\",\"symbol\":\"circle\"},\"mode\":\"lines\",\"name\":\"Non-Hispanic Black\",\"showlegend\":false,\"x\":[1999,2000,2001,2002,2003,2004,2005,2006,2007,2008,2009,2010,2011,2012,2013,2014,2015,2016,2017,2018,2019],\"xaxis\":\"x\",\"y\":[30.980911838789325,33.1361060676727,35.291300296556074,37.44649452543854,39.60168875432191,41.75688298320529,43.91207721208775,46.067271440971126,48.2224656698545,50.377659898736965,52.53285412762034,54.688048356503714,56.84324258538618,58.99843681426955,61.15363104315293,63.30882527203539,65.46401950091877,67.61921372980214,69.7744079586846,71.92960218756798,74.08479641645135],\"yaxis\":\"y\",\"type\":\"scatter\"},{\"hovertemplate\":\"race_group=Non-Hispanic White<br>year_id=%{x}<br>Value=%{y}<extra></extra>\",\"legendgroup\":\"Non-Hispanic White\",\"marker\":{\"color\":\"#FFA15A\",\"opacity\":0.3,\"symbol\":\"circle\"},\"mode\":\"markers\",\"name\":\"Non-Hispanic White\",\"orientation\":\"v\",\"showlegend\":true,\"x\":[1999,2000,2001,2002,2003,2004,2005,2006,2007,2008,2009,2010,2011,2012,2013,2014,2015,2016,2017,2018,2019],\"xaxis\":\"x\",\"y\":[9.206409656,8.414643143,8.816738756,10.51569508,12.70087233,14.56315943,15.8848099,16.90471545,17.88357352,18.97405446,20.40980324,22.02935916,23.56932162,25.14991982,27.04220406,29.09011245,30.1970982,30.24331377,29.6749794,29.05452121,27.85633306],\"yaxis\":\"y\",\"type\":\"scatter\"},{\"hovertemplate\":\"<b>OLS trendline</b><br>val = 1.21899 * year_id + -2428.56<br>R<sup>2</sup>=0.953932<br><br>race_group=Non-Hispanic White<br>year_id=%{x}<br>Value=%{y} <b>(trend)</b><extra></extra>\",\"legendgroup\":\"Non-Hispanic White\",\"marker\":{\"color\":\"#FFA15A\",\"symbol\":\"circle\"},\"mode\":\"lines\",\"name\":\"Non-Hispanic White\",\"showlegend\":false,\"x\":[1999,2000,2001,2002,2003,2004,2005,2006,2007,2008,2009,2010,2011,2012,2013,2014,2015,2016,2017,2018,2019],\"xaxis\":\"x\",\"y\":[8.199712138875839,9.41870110458376,10.637690070291228,11.85667903599915,13.075668001707072,14.29465696741454,15.513645933122461,16.732634898830383,17.95162386453785,19.170612830245773,20.389601795953695,21.608590761661162,22.827579727369084,24.04656869307655,25.265557658784473,26.484546624492395,27.703535590199863,28.922524555907785,30.141513521615707,31.360502487323174,32.579491453031096],\"yaxis\":\"y\",\"type\":\"scatter\"}],                        {\"template\":{\"data\":{\"histogram2dcontour\":[{\"type\":\"histogram2dcontour\",\"colorbar\":{\"outlinewidth\":0,\"ticks\":\"\"},\"colorscale\":[[0.0,\"#0d0887\"],[0.1111111111111111,\"#46039f\"],[0.2222222222222222,\"#7201a8\"],[0.3333333333333333,\"#9c179e\"],[0.4444444444444444,\"#bd3786\"],[0.5555555555555556,\"#d8576b\"],[0.6666666666666666,\"#ed7953\"],[0.7777777777777778,\"#fb9f3a\"],[0.8888888888888888,\"#fdca26\"],[1.0,\"#f0f921\"]]}],\"choropleth\":[{\"type\":\"choropleth\",\"colorbar\":{\"outlinewidth\":0,\"ticks\":\"\"}}],\"histogram2d\":[{\"type\":\"histogram2d\",\"colorbar\":{\"outlinewidth\":0,\"ticks\":\"\"},\"colorscale\":[[0.0,\"#0d0887\"],[0.1111111111111111,\"#46039f\"],[0.2222222222222222,\"#7201a8\"],[0.3333333333333333,\"#9c179e\"],[0.4444444444444444,\"#bd3786\"],[0.5555555555555556,\"#d8576b\"],[0.6666666666666666,\"#ed7953\"],[0.7777777777777778,\"#fb9f3a\"],[0.8888888888888888,\"#fdca26\"],[1.0,\"#f0f921\"]]}],\"heatmap\":[{\"type\":\"heatmap\",\"colorbar\":{\"outlinewidth\":0,\"ticks\":\"\"},\"colorscale\":[[0.0,\"#0d0887\"],[0.1111111111111111,\"#46039f\"],[0.2222222222222222,\"#7201a8\"],[0.3333333333333333,\"#9c179e\"],[0.4444444444444444,\"#bd3786\"],[0.5555555555555556,\"#d8576b\"],[0.6666666666666666,\"#ed7953\"],[0.7777777777777778,\"#fb9f3a\"],[0.8888888888888888,\"#fdca26\"],[1.0,\"#f0f921\"]]}],\"heatmapgl\":[{\"type\":\"heatmapgl\",\"colorbar\":{\"outlinewidth\":0,\"ticks\":\"\"},\"colorscale\":[[0.0,\"#0d0887\"],[0.1111111111111111,\"#46039f\"],[0.2222222222222222,\"#7201a8\"],[0.3333333333333333,\"#9c179e\"],[0.4444444444444444,\"#bd3786\"],[0.5555555555555556,\"#d8576b\"],[0.6666666666666666,\"#ed7953\"],[0.7777777777777778,\"#fb9f3a\"],[0.8888888888888888,\"#fdca26\"],[1.0,\"#f0f921\"]]}],\"contourcarpet\":[{\"type\":\"contourcarpet\",\"colorbar\":{\"outlinewidth\":0,\"ticks\":\"\"}}],\"contour\":[{\"type\":\"contour\",\"colorbar\":{\"outlinewidth\":0,\"ticks\":\"\"},\"colorscale\":[[0.0,\"#0d0887\"],[0.1111111111111111,\"#46039f\"],[0.2222222222222222,\"#7201a8\"],[0.3333333333333333,\"#9c179e\"],[0.4444444444444444,\"#bd3786\"],[0.5555555555555556,\"#d8576b\"],[0.6666666666666666,\"#ed7953\"],[0.7777777777777778,\"#fb9f3a\"],[0.8888888888888888,\"#fdca26\"],[1.0,\"#f0f921\"]]}],\"surface\":[{\"type\":\"surface\",\"colorbar\":{\"outlinewidth\":0,\"ticks\":\"\"},\"colorscale\":[[0.0,\"#0d0887\"],[0.1111111111111111,\"#46039f\"],[0.2222222222222222,\"#7201a8\"],[0.3333333333333333,\"#9c179e\"],[0.4444444444444444,\"#bd3786\"],[0.5555555555555556,\"#d8576b\"],[0.6666666666666666,\"#ed7953\"],[0.7777777777777778,\"#fb9f3a\"],[0.8888888888888888,\"#fdca26\"],[1.0,\"#f0f921\"]]}],\"mesh3d\":[{\"type\":\"mesh3d\",\"colorbar\":{\"outlinewidth\":0,\"ticks\":\"\"}}],\"scatter\":[{\"fillpattern\":{\"fillmode\":\"overlay\",\"size\":10,\"solidity\":0.2},\"type\":\"scatter\"}],\"parcoords\":[{\"type\":\"parcoords\",\"line\":{\"colorbar\":{\"outlinewidth\":0,\"ticks\":\"\"}}}],\"scatterpolargl\":[{\"type\":\"scatterpolargl\",\"marker\":{\"colorbar\":{\"outlinewidth\":0,\"ticks\":\"\"}}}],\"bar\":[{\"error_x\":{\"color\":\"#2a3f5f\"},\"error_y\":{\"color\":\"#2a3f5f\"},\"marker\":{\"line\":{\"color\":\"#E5ECF6\",\"width\":0.5},\"pattern\":{\"fillmode\":\"overlay\",\"size\":10,\"solidity\":0.2}},\"type\":\"bar\"}],\"scattergeo\":[{\"type\":\"scattergeo\",\"marker\":{\"colorbar\":{\"outlinewidth\":0,\"ticks\":\"\"}}}],\"scatterpolar\":[{\"type\":\"scatterpolar\",\"marker\":{\"colorbar\":{\"outlinewidth\":0,\"ticks\":\"\"}}}],\"histogram\":[{\"marker\":{\"pattern\":{\"fillmode\":\"overlay\",\"size\":10,\"solidity\":0.2}},\"type\":\"histogram\"}],\"scattergl\":[{\"type\":\"scattergl\",\"marker\":{\"colorbar\":{\"outlinewidth\":0,\"ticks\":\"\"}}}],\"scatter3d\":[{\"type\":\"scatter3d\",\"line\":{\"colorbar\":{\"outlinewidth\":0,\"ticks\":\"\"}},\"marker\":{\"colorbar\":{\"outlinewidth\":0,\"ticks\":\"\"}}}],\"scattermapbox\":[{\"type\":\"scattermapbox\",\"marker\":{\"colorbar\":{\"outlinewidth\":0,\"ticks\":\"\"}}}],\"scatterternary\":[{\"type\":\"scatterternary\",\"marker\":{\"colorbar\":{\"outlinewidth\":0,\"ticks\":\"\"}}}],\"scattercarpet\":[{\"type\":\"scattercarpet\",\"marker\":{\"colorbar\":{\"outlinewidth\":0,\"ticks\":\"\"}}}],\"carpet\":[{\"aaxis\":{\"endlinecolor\":\"#2a3f5f\",\"gridcolor\":\"white\",\"linecolor\":\"white\",\"minorgridcolor\":\"white\",\"startlinecolor\":\"#2a3f5f\"},\"baxis\":{\"endlinecolor\":\"#2a3f5f\",\"gridcolor\":\"white\",\"linecolor\":\"white\",\"minorgridcolor\":\"white\",\"startlinecolor\":\"#2a3f5f\"},\"type\":\"carpet\"}],\"table\":[{\"cells\":{\"fill\":{\"color\":\"#EBF0F8\"},\"line\":{\"color\":\"white\"}},\"header\":{\"fill\":{\"color\":\"#C8D4E3\"},\"line\":{\"color\":\"white\"}},\"type\":\"table\"}],\"barpolar\":[{\"marker\":{\"line\":{\"color\":\"#E5ECF6\",\"width\":0.5},\"pattern\":{\"fillmode\":\"overlay\",\"size\":10,\"solidity\":0.2}},\"type\":\"barpolar\"}],\"pie\":[{\"automargin\":true,\"type\":\"pie\"}]},\"layout\":{\"autotypenumbers\":\"strict\",\"colorway\":[\"#636efa\",\"#EF553B\",\"#00cc96\",\"#ab63fa\",\"#FFA15A\",\"#19d3f3\",\"#FF6692\",\"#B6E880\",\"#FF97FF\",\"#FECB52\"],\"font\":{\"color\":\"#2a3f5f\"},\"hovermode\":\"closest\",\"hoverlabel\":{\"align\":\"left\"},\"paper_bgcolor\":\"white\",\"plot_bgcolor\":\"#E5ECF6\",\"polar\":{\"bgcolor\":\"#E5ECF6\",\"angularaxis\":{\"gridcolor\":\"white\",\"linecolor\":\"white\",\"ticks\":\"\"},\"radialaxis\":{\"gridcolor\":\"white\",\"linecolor\":\"white\",\"ticks\":\"\"}},\"ternary\":{\"bgcolor\":\"#E5ECF6\",\"aaxis\":{\"gridcolor\":\"white\",\"linecolor\":\"white\",\"ticks\":\"\"},\"baxis\":{\"gridcolor\":\"white\",\"linecolor\":\"white\",\"ticks\":\"\"},\"caxis\":{\"gridcolor\":\"white\",\"linecolor\":\"white\",\"ticks\":\"\"}},\"coloraxis\":{\"colorbar\":{\"outlinewidth\":0,\"ticks\":\"\"}},\"colorscale\":{\"sequential\":[[0.0,\"#0d0887\"],[0.1111111111111111,\"#46039f\"],[0.2222222222222222,\"#7201a8\"],[0.3333333333333333,\"#9c179e\"],[0.4444444444444444,\"#bd3786\"],[0.5555555555555556,\"#d8576b\"],[0.6666666666666666,\"#ed7953\"],[0.7777777777777778,\"#fb9f3a\"],[0.8888888888888888,\"#fdca26\"],[1.0,\"#f0f921\"]],\"sequentialminus\":[[0.0,\"#0d0887\"],[0.1111111111111111,\"#46039f\"],[0.2222222222222222,\"#7201a8\"],[0.3333333333333333,\"#9c179e\"],[0.4444444444444444,\"#bd3786\"],[0.5555555555555556,\"#d8576b\"],[0.6666666666666666,\"#ed7953\"],[0.7777777777777778,\"#fb9f3a\"],[0.8888888888888888,\"#fdca26\"],[1.0,\"#f0f921\"]],\"diverging\":[[0,\"#8e0152\"],[0.1,\"#c51b7d\"],[0.2,\"#de77ae\"],[0.3,\"#f1b6da\"],[0.4,\"#fde0ef\"],[0.5,\"#f7f7f7\"],[0.6,\"#e6f5d0\"],[0.7,\"#b8e186\"],[0.8,\"#7fbc41\"],[0.9,\"#4d9221\"],[1,\"#276419\"]]},\"xaxis\":{\"gridcolor\":\"white\",\"linecolor\":\"white\",\"ticks\":\"\",\"title\":{\"standoff\":15},\"zerolinecolor\":\"white\",\"automargin\":true,\"zerolinewidth\":2},\"yaxis\":{\"gridcolor\":\"white\",\"linecolor\":\"white\",\"ticks\":\"\",\"title\":{\"standoff\":15},\"zerolinecolor\":\"white\",\"automargin\":true,\"zerolinewidth\":2},\"scene\":{\"xaxis\":{\"backgroundcolor\":\"#E5ECF6\",\"gridcolor\":\"white\",\"linecolor\":\"white\",\"showbackground\":true,\"ticks\":\"\",\"zerolinecolor\":\"white\",\"gridwidth\":2},\"yaxis\":{\"backgroundcolor\":\"#E5ECF6\",\"gridcolor\":\"white\",\"linecolor\":\"white\",\"showbackground\":true,\"ticks\":\"\",\"zerolinecolor\":\"white\",\"gridwidth\":2},\"zaxis\":{\"backgroundcolor\":\"#E5ECF6\",\"gridcolor\":\"white\",\"linecolor\":\"white\",\"showbackground\":true,\"ticks\":\"\",\"zerolinecolor\":\"white\",\"gridwidth\":2}},\"shapedefaults\":{\"line\":{\"color\":\"#2a3f5f\"}},\"annotationdefaults\":{\"arrowcolor\":\"#2a3f5f\",\"arrowhead\":0,\"arrowwidth\":1},\"geo\":{\"bgcolor\":\"white\",\"landcolor\":\"#E5ECF6\",\"subunitcolor\":\"white\",\"showland\":true,\"showlakes\":true,\"lakecolor\":\"white\"},\"title\":{\"x\":0.05},\"mapbox\":{\"style\":\"light\"}}},\"xaxis\":{\"anchor\":\"y\",\"domain\":[0.0,1.0],\"title\":{\"text\":\"year_id\"}},\"yaxis\":{\"anchor\":\"x\",\"domain\":[0.0,1.0],\"title\":{\"text\":\"Value\"}},\"legend\":{\"title\":{\"text\":\"race_group\"},\"tracegroupgap\":0},\"title\":{\"text\":\"MMR Over Time by Race Group\"}},                        {\"responsive\": true}                    ).then(function(){\n",
       "                            \n",
       "var gd = document.getElementById('576db16b-58ae-4d57-bc10-731184b5b7b9');\n",
       "var x = new MutationObserver(function (mutations, observer) {{\n",
       "        var display = window.getComputedStyle(gd).display;\n",
       "        if (!display || display === 'none') {{\n",
       "            console.log([gd, 'removed!']);\n",
       "            Plotly.purge(gd);\n",
       "            observer.disconnect();\n",
       "        }}\n",
       "}});\n",
       "\n",
       "// Listen for the removal of the full notebook cells\n",
       "var notebookContainer = gd.closest('#notebook-container');\n",
       "if (notebookContainer) {{\n",
       "    x.observe(notebookContainer, {childList: true});\n",
       "}}\n",
       "\n",
       "// Listen for the clearing of the current output cell\n",
       "var outputEl = gd.closest('.output');\n",
       "if (outputEl) {{\n",
       "    x.observe(outputEl, {childList: true});\n",
       "}}\n",
       "\n",
       "                        })                };                });            </script>        </div>"
      ]
     },
     "metadata": {},
     "output_type": "display_data"
    }
   ],
   "source": [
    "import plotly.express as px\n",
    "import pandas as pd\n",
    "\n",
    "fig = px.scatter(\n",
    "    df_first,\n",
    "    x='year_id',\n",
    "    y='val',\n",
    "    color='race_group',\n",
    "    trendline='ols',  \n",
    "    opacity=0.3,\n",
    "    labels={'val': 'Value'},\n",
    "    title='MMR Over Time by Race Group',\n",
    "    \n",
    ")\n",
    "\n",
    "fig.show()"
   ]
  },
  {
   "cell_type": "code",
   "execution_count": 390,
   "id": "33bdf5c4",
   "metadata": {},
   "outputs": [
    {
     "data": {
      "image/png": "[encoded data removed]",
      "text/plain": [
       "<Figure size 1079.62x600 with 1 Axes>"
      ]
     },
     "metadata": {},
     "output_type": "display_data"
    }
   ],
   "source": [
    "#this was made for github since github does not display plotly\n",
    "import seaborn as sns\n",
    "from matplotlib.ticker import FuncFormatter, MultipleLocator\n",
    "\n",
    "sns.set(style=\"whitegrid\", rc={\"grid.color\": \"lightgray\"})\n",
    "custom_palette = sns.color_palette(\"husl\", n_colors=len(df_first['race_group'].unique()))\n",
    "sns.lmplot(\n",
    "    data=df_first, \n",
    "    x='year_id', \n",
    "    y='val', \n",
    "    hue='race_group', \n",
    "    palette=custom_palette, \n",
    "    aspect=1, \n",
    "    height=6, \n",
    "    ci=None, \n",
    "    scatter_kws={'alpha':0.3, 's': 25}\n",
    ")\n",
    "plt.xlabel('Year')\n",
    "plt.ylabel('Value')\n",
    "plt.gca().xaxis.set_major_locator(MultipleLocator(5))\n",
    "line_colors = sns.color_palette(\"husl\", n_colors=len(df_first['race_group'].unique()))\n",
    "plt.show()"
   ]
  },
  {
   "cell_type": "markdown",
   "id": "46cbbc93",
   "metadata": {},
   "source": [
    "*Residual Analysis*    "
   ]
  },
  {
   "cell_type": "code",
   "execution_count": 384,
   "id": "62a3295c",
   "metadata": {},
   "outputs": [
    {
     "data": {
      "image/png": "[encoded data removed]",
      "text/plain": [
       "<Figure size 400x300 with 1 Axes>"
      ]
     },
     "metadata": {},
     "output_type": "display_data"
    },
    {
     "data": {
      "image/png": "[encoded data removed]",
      "text/plain": [
       "<Figure size 400x300 with 1 Axes>"
      ]
     },
     "metadata": {},
     "output_type": "display_data"
    },
    {
     "data": {
      "image/png": "[encoded data removed]",
      "text/plain": [
       "<Figure size 400x300 with 1 Axes>"
      ]
     },
     "metadata": {},
     "output_type": "display_data"
    },
    {
     "data": {
      "image/png": "[encoded data removed]",
      "text/plain": [
       "<Figure size 400x300 with 1 Axes>"
      ]
     },
     "metadata": {},
     "output_type": "display_data"
    },
    {
     "data": {
      "image/png": "[encoded data removed]",
      "text/plain": [
       "<Figure size 400x300 with 1 Axes>"
      ]
     },
     "metadata": {},
     "output_type": "display_data"
    }
   ],
   "source": [
    "# Plot residual analysis for each race group\n",
    "for race_group in df_results.index:\n",
    "    # Fit OLS model\n",
    "    X = sm.add_constant(df_first[df_first['race_group'] == race_group]['year_id'])\n",
    "    y = df_first[df_first['race_group'] == race_group]['val']\n",
    "    model = sm.OLS(y, X).fit()\n",
    "    \n",
    "    # Calculate residuals\n",
    "    residuals = model.resid\n",
    "    \n",
    "    # Plot residuals vs. fitted values\n",
    "    plt.figure(figsize=(4, 3))\n",
    "    sns.scatterplot(x=model.fittedvalues, y=residuals)\n",
    "    plt.title(f\"Residuals vs Fitted Values - {race_group}\")\n",
    "    plt.xlabel(\"Fitted Values\")\n",
    "    plt.ylabel(\"Residuals\")\n",
    "    plt.show()"
   ]
  },
  {
   "cell_type": "markdown",
   "id": "d0aa1454",
   "metadata": {},
   "source": [
    "**PART IV. CONCLUSION**    \n",
    "MMR was determine to increase among all race/ethnic groups between 1999-2019 as denoted by OLS analysis. 'Non-Hispanic American Indian and Alaska Native' women were determined to have the highest MMR, followed by 'Non-Hispanic Black','Non-Hispanic White','Hispanic and any race' and finally 'Non-Hispanic Asian, Native Hawaiian, or Other Pacific Islander'.  Residual analysis concluded that the model was a poor fit. Using OLS to answer the research question was most likely excessive, but I would say the analysis did answer the research question that maternal mortality increased for all racial/ethnic groups over the past twenty years, even if the model was flawed."
   ]
  },
  {
   "cell_type": "markdown",
   "id": "44279657",
   "metadata": {},
   "source": [
    "**PART V. SUPERVISED MACHINE LEARNING ATTEMPT**    \n",
    "The dataset was filtered to 'Non-Hispanic American Indian and Alaska Natives' on a nationwide level resulting in a dataframe of 21 rows and the two columns of interest.  Using machine learning on a dataset of this size is excessive, but was attempted to demostrate how machine learning might be used with a similar dataset.\n",
    "\n",
    "The final R-squared of 0.9128968159058444 indicates that model explains about 91% of the variance in the target variable, which is quite high and the model's predictions have an error of 4.92 deaths (which is 5 deaths per 100,000 live births).  \n",
    "\n",
    "Again, machine learning in this instance is not appropriate but was undertaken for demonstration purposes.  In order to validate the model, further analysis, such as residual analysis, would need to be undertaken."
   ]
  },
  {
   "cell_type": "code",
   "execution_count": 332,
   "id": "f8444d80",
   "metadata": {},
   "outputs": [
    {
     "data": {
      "text/html": [
       "<div>\n",
       "<style scoped>\n",
       "    .dataframe tbody tr th:only-of-type {\n",
       "        vertical-align: middle;\n",
       "    }\n",
       "\n",
       "    .dataframe tbody tr th {\n",
       "        vertical-align: top;\n",
       "    }\n",
       "\n",
       "    .dataframe thead th {\n",
       "        text-align: right;\n",
       "    }\n",
       "</style>\n",
       "<table border=\"1\" class=\"dataframe\">\n",
       "  <thead>\n",
       "    <tr style=\"text-align: right;\">\n",
       "      <th></th>\n",
       "      <th>year_id</th>\n",
       "      <th>val</th>\n",
       "    </tr>\n",
       "  </thead>\n",
       "  <tbody>\n",
       "    <tr>\n",
       "      <th>2941</th>\n",
       "      <td>1999</td>\n",
       "      <td>18.967999</td>\n",
       "    </tr>\n",
       "    <tr>\n",
       "      <th>2946</th>\n",
       "      <td>2000</td>\n",
       "      <td>14.381800</td>\n",
       "    </tr>\n",
       "    <tr>\n",
       "      <th>2951</th>\n",
       "      <td>2001</td>\n",
       "      <td>12.972851</td>\n",
       "    </tr>\n",
       "    <tr>\n",
       "      <th>2956</th>\n",
       "      <td>2002</td>\n",
       "      <td>13.876354</td>\n",
       "    </tr>\n",
       "    <tr>\n",
       "      <th>2961</th>\n",
       "      <td>2003</td>\n",
       "      <td>16.432849</td>\n",
       "    </tr>\n",
       "    <tr>\n",
       "      <th>2966</th>\n",
       "      <td>2004</td>\n",
       "      <td>20.498080</td>\n",
       "    </tr>\n",
       "    <tr>\n",
       "      <th>2971</th>\n",
       "      <td>2005</td>\n",
       "      <td>26.819092</td>\n",
       "    </tr>\n",
       "    <tr>\n",
       "      <th>2976</th>\n",
       "      <td>2006</td>\n",
       "      <td>32.123062</td>\n",
       "    </tr>\n",
       "    <tr>\n",
       "      <th>2981</th>\n",
       "      <td>2007</td>\n",
       "      <td>33.998407</td>\n",
       "    </tr>\n",
       "    <tr>\n",
       "      <th>2986</th>\n",
       "      <td>2008</td>\n",
       "      <td>33.642578</td>\n",
       "    </tr>\n",
       "    <tr>\n",
       "      <th>2991</th>\n",
       "      <td>2009</td>\n",
       "      <td>35.801473</td>\n",
       "    </tr>\n",
       "    <tr>\n",
       "      <th>2996</th>\n",
       "      <td>2010</td>\n",
       "      <td>40.319072</td>\n",
       "    </tr>\n",
       "    <tr>\n",
       "      <th>3001</th>\n",
       "      <td>2011</td>\n",
       "      <td>46.459901</td>\n",
       "    </tr>\n",
       "    <tr>\n",
       "      <th>3006</th>\n",
       "      <td>2012</td>\n",
       "      <td>50.286243</td>\n",
       "    </tr>\n",
       "    <tr>\n",
       "      <th>3011</th>\n",
       "      <td>2013</td>\n",
       "      <td>50.987231</td>\n",
       "    </tr>\n",
       "    <tr>\n",
       "      <th>3016</th>\n",
       "      <td>2014</td>\n",
       "      <td>49.981666</td>\n",
       "    </tr>\n",
       "    <tr>\n",
       "      <th>3021</th>\n",
       "      <td>2015</td>\n",
       "      <td>49.100746</td>\n",
       "    </tr>\n",
       "    <tr>\n",
       "      <th>3026</th>\n",
       "      <td>2016</td>\n",
       "      <td>48.017195</td>\n",
       "    </tr>\n",
       "    <tr>\n",
       "      <th>3031</th>\n",
       "      <td>2017</td>\n",
       "      <td>48.591640</td>\n",
       "    </tr>\n",
       "    <tr>\n",
       "      <th>3036</th>\n",
       "      <td>2018</td>\n",
       "      <td>54.586411</td>\n",
       "    </tr>\n",
       "    <tr>\n",
       "      <th>3041</th>\n",
       "      <td>2019</td>\n",
       "      <td>69.277333</td>\n",
       "    </tr>\n",
       "  </tbody>\n",
       "</table>\n",
       "</div>"
      ],
      "text/plain": [
       "      year_id        val\n",
       "2941     1999  18.967999\n",
       "2946     2000  14.381800\n",
       "2951     2001  12.972851\n",
       "2956     2002  13.876354\n",
       "2961     2003  16.432849\n",
       "2966     2004  20.498080\n",
       "2971     2005  26.819092\n",
       "2976     2006  32.123062\n",
       "2981     2007  33.998407\n",
       "2986     2008  33.642578\n",
       "2991     2009  35.801473\n",
       "2996     2010  40.319072\n",
       "3001     2011  46.459901\n",
       "3006     2012  50.286243\n",
       "3011     2013  50.987231\n",
       "3016     2014  49.981666\n",
       "3021     2015  49.100746\n",
       "3026     2016  48.017195\n",
       "3031     2017  48.591640\n",
       "3036     2018  54.586411\n",
       "3041     2019  69.277333"
      ]
     },
     "execution_count": 332,
     "metadata": {},
     "output_type": "execute_result"
    }
   ],
   "source": [
    "df_ami = df_first[df_first['race_group'] == 'Non-Hispanic American Indian and Alaska Native'][['year_id', 'val']]\n",
    "df_ami"
   ]
  },
  {
   "cell_type": "code",
   "execution_count": 333,
   "id": "58c20864",
   "metadata": {},
   "outputs": [
    {
     "name": "stdout",
     "output_type": "stream",
     "text": [
      "<class 'numpy.ndarray'> <class 'numpy.ndarray'>\n"
     ]
    }
   ],
   "source": [
    "X=df_ami.drop(\"val\",axis=1).values\n",
    "y=df_ami[\"val\"].values\n",
    "print(type(X),type(y))"
   ]
  },
  {
   "cell_type": "code",
   "execution_count": 334,
   "id": "2a529583",
   "metadata": {},
   "outputs": [
    {
     "name": "stdout",
     "output_type": "stream",
     "text": [
      "(21,) (21,)\n"
     ]
    }
   ],
   "source": [
    "#insuring correct shape\n",
    "X_year=X[:,0]\n",
    "print(y.shape,X_year.shape)\n"
   ]
  },
  {
   "cell_type": "code",
   "execution_count": 335,
   "id": "df482590",
   "metadata": {},
   "outputs": [
    {
     "name": "stdout",
     "output_type": "stream",
     "text": [
      "(21, 1)\n"
     ]
    }
   ],
   "source": [
    "X_year=X_year.reshape(-1,1)\n",
    "print(X_year.shape)"
   ]
  },
  {
   "cell_type": "code",
   "execution_count": 336,
   "id": "d92ecd7f",
   "metadata": {},
   "outputs": [
    {
     "data": {
      "image/png": "[encoded data removed]",
      "text/plain": [
       "<Figure size 640x480 with 1 Axes>"
      ]
     },
     "metadata": {},
     "output_type": "display_data"
    }
   ],
   "source": [
    "# a plot of MMR for Non-Hispanic American Indian and Alaska Native over the years with an OLS regression line\n",
    "\n",
    "from sklearn.linear_model import LinearRegression\n",
    "reg=LinearRegression()\n",
    "reg.fit(X_year,y)\n",
    "predictions=reg.predict(X_year)\n",
    "plt.scatter(X_year,y)\n",
    "plt.plot(X_year, predictions)\n",
    "plt.ylabel(\"MMR\")\n",
    "plt.xlabel(\"Year\")\n",
    "plt.show()"
   ]
  },
  {
   "cell_type": "code",
   "execution_count": 337,
   "id": "cfbc72b6",
   "metadata": {},
   "outputs": [
    {
     "name": "stdout",
     "output_type": "stream",
     "text": [
      "Predictions: [ 9.15376059 55.0209957 ],Actual Value:[18.96799925 48.01719533]\n"
     ]
    }
   ],
   "source": [
    "#test and train\n",
    "from sklearn.model_selection import train_test_split\n",
    "from sklearn.linear_model import LinearRegression\n",
    "X_train, X_test, y_train, y_test = train_test_split(X, y, test_size=0.3,random_state=42)\n",
    "reg_all=LinearRegression()\n",
    "reg_all.fit(X_train,y_train)\n",
    "y_pred=reg_all.predict(X_test)\n",
    "print(\"Predictions: {},Actual Value:{}\".format(y_pred[:2],y_test[:2]))"
   ]
  },
  {
   "cell_type": "code",
   "execution_count": 338,
   "id": "652d374a",
   "metadata": {},
   "outputs": [
    {
     "name": "stdout",
     "output_type": "stream",
     "text": [
      "R^2: 0.9128968159058444\n",
      "RMSE: 4.918533405560223\n"
     ]
    }
   ],
   "source": [
    "from sklearn.metrics import mean_squared_error\n",
    "r_squared=reg.score(X_test,y_test)\n",
    "rmse=mean_squared_error(y_test,y_pred,squared=False)\n",
    "print(\"R^2: {}\".format(r_squared))\n",
    "print(\"RMSE: {}\".format(rmse))"
   ]
  },
  {
   "cell_type": "code",
   "execution_count": 339,
   "id": "1b6d00f1",
   "metadata": {},
   "outputs": [
    {
     "data": {
      "image/png": "[encoded data removed]",
      "text/plain": [
       "<Figure size 640x480 with 1 Axes>"
      ]
     },
     "metadata": {},
     "output_type": "display_data"
    }
   ],
   "source": [
    "plt.scatter(y_test, y_pred)\n",
    "plt.xlabel(\"Actual Values\")\n",
    "plt.ylabel(\"Predicted Values\")\n",
    "plt.title(\"Actual vs Predicted Values\")\n",
    "plt.show()"
   ]
  },
  {
   "cell_type": "markdown",
   "id": "f83fb182",
   "metadata": {},
   "source": [
    "\n",
    "\n"
   ]
  },
  {
   "cell_type": "code",
   "execution_count": null,
   "id": "dbf48382",
   "metadata": {},
   "outputs": [],
   "source": []
  },
  {
   "cell_type": "code",
   "execution_count": null,
   "id": "b3de0755",
   "metadata": {},
   "outputs": [],
   "source": []
  }
 ],
 "metadata": {
  "kernelspec": {
   "display_name": "Python 3 (ipykernel)",
   "language": "python",
   "name": "python3"
  },
  "language_info": {
   "codemirror_mode": {
    "name": "ipython",
    "version": 3
   },
   "file_extension": ".py",
   "mimetype": "text/x-python",
   "name": "python",
   "nbconvert_exporter": "python",
   "pygments_lexer": "ipython3",
   "version": "3.10.9"
  }
 },
 "nbformat": 4,
 "nbformat_minor": 5
}
