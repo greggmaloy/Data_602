{
 "cells": [
  {
   "cell_type": "markdown",
   "id": "aac4da66",
   "metadata": {},
   "source": [
    "1. What is pandas and why use it?"
   ]
  },
  {
   "cell_type": "markdown",
   "id": "73450dbe",
   "metadata": {},
   "source": [
    "Pandas is an open source python library widley used for data manipulation and data analysis. Pandas has two principle data structures, data frames and series.  Pandas also offers great flexability and ease of use when dealing with structured data."
   ]
  },
  {
   "cell_type": "markdown",
   "id": "2c31218c",
   "metadata": {},
   "source": [
    "2. Give an example of how to import a csv file using pandas"
   ]
  },
  {
   "cell_type": "code",
   "execution_count": 1,
   "id": "ebc795db",
   "metadata": {},
   "outputs": [
    {
     "name": "stdout",
     "output_type": "stream",
     "text": [
      "      Organisation                 member\n",
      "0         ethereum          Oleh Aldekein\n",
      "1         ethereum                   None\n",
      "2         ethereum     Frank Szendzielarz\n",
      "3         ethereum      Kolby Moroz Liebl\n",
      "4         ethereum  Marius van der Wijden\n",
      "...            ...                    ...\n",
      "10593    microsoft           Zachary Danz\n",
      "10594    microsoft                    zsy\n",
      "10595    microsoft          Zuhair Parvez\n",
      "10596    microsoft                   None\n",
      "10597    microsoft              Yiwen Zhu\n",
      "\n",
      "[10598 rows x 2 columns]\n"
     ]
    }
   ],
   "source": [
    "import pandas as pd\n",
    "url='https://raw.githubusercontent.com/greggmaloy/Data620/main/DATA_620_Assignment_1.csv'\n",
    "df=pd.read_csv(url)\n",
    "print(df)"
   ]
  },
  {
   "cell_type": "markdown",
   "id": "a3b37e41",
   "metadata": {},
   "source": [
    "3. Show how to view the first 10 rows of a dataset using pandas"
   ]
  },
  {
   "cell_type": "code",
   "execution_count": 3,
   "id": "78fe1466",
   "metadata": {},
   "outputs": [
    {
     "name": "stdout",
     "output_type": "stream",
     "text": [
      "  Organisation                 member\n",
      "0     ethereum          Oleh Aldekein\n",
      "1     ethereum                   None\n",
      "2     ethereum     Frank Szendzielarz\n",
      "3     ethereum      Kolby Moroz Liebl\n",
      "4     ethereum  Marius van der Wijden\n",
      "5     ethereum           Mihai Alisie\n",
      "6     ethereum                   None\n",
      "7     ethereum       Anton Nashatyrev\n",
      "8     ethereum          Justin Martin\n",
      "9     ethereum            RJ Catalano\n"
     ]
    }
   ],
   "source": [
    "print(df.head(10))"
   ]
  },
  {
   "cell_type": "markdown",
   "id": "fb4df13f",
   "metadata": {},
   "source": [
    "4. Write a Pandas program to compare the elements of the two Pandas Series.\n",
    "Sample Series: [2, 4, 6, 8, 10], [1, 3, 5, 7, 10]"
   ]
  },
  {
   "cell_type": "code",
   "execution_count": 14,
   "id": "47844493",
   "metadata": {},
   "outputs": [
    {
     "name": "stdout",
     "output_type": "stream",
     "text": [
      "All of the elements in the series are not equal.\n",
      "At least one pair of elements in the series is equal.\n"
     ]
    }
   ],
   "source": [
    "series_1=pd.Series([2, 4, 6, 8, 10])\n",
    "series_2=pd.Series([1, 3, 5, 7, 10])\n",
    "\n",
    "\n",
    "all_equal = (series_1==series_2).all()\n",
    "\n",
    "#checks is all the elements of the series are equal\n",
    "if all_equal:\n",
    "    print(\"All of the elements in the series are equal.\")\n",
    "else:\n",
    "    print(\"All of the elements in the series are not equal.\")\n",
    "    \n",
    "#using any()    \n",
    "any_equal = (series_1==series_2).any()\n",
    "if any_equal:\n",
    "    print(\"At least one pair of elements in the series is equal.\")\n",
    "else:\n",
    "    print(\"None of the elements of the series are equal.\")\n",
    "    "
   ]
  },
  {
   "cell_type": "markdown",
   "id": "08db3dd3",
   "metadata": {},
   "source": [
    "5. Change the first character of each word to upper case in each word of df1\n",
    "df1 = pd.Series(['hello', 'to', 'cuny', 'class?'])"
   ]
  },
  {
   "cell_type": "code",
   "execution_count": 16,
   "id": "6b2921b4",
   "metadata": {},
   "outputs": [
    {
     "name": "stdout",
     "output_type": "stream",
     "text": [
      "0     Hello\n",
      "1        To\n",
      "2      Cuny\n",
      "3    Class?\n",
      "dtype: object\n"
     ]
    }
   ],
   "source": [
    "df1 = pd.Series(['hello', 'to', 'cuny', 'class?'])\n",
    "df1 = df1.str.title()\n",
    "print(df1)"
   ]
  },
  {
   "cell_type": "code",
   "execution_count": null,
   "id": "b5d05c3a",
   "metadata": {},
   "outputs": [],
   "source": []
  }
 ],
 "metadata": {
  "kernelspec": {
   "display_name": "Python 3 (ipykernel)",
   "language": "python",
   "name": "python3"
  },
  "language_info": {
   "codemirror_mode": {
    "name": "ipython",
    "version": 3
   },
   "file_extension": ".py",
   "mimetype": "text/x-python",
   "name": "python",
   "nbconvert_exporter": "python",
   "pygments_lexer": "ipython3",
   "version": "3.10.9"
  }
 },
 "nbformat": 4,
 "nbformat_minor": 5
}
