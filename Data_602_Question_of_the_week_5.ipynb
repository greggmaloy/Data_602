{
 "cells": [
  {
   "cell_type": "markdown",
   "id": "eae4c306",
   "metadata": {},
   "source": [
    "1. Write a Python class to reverse a string word by word.\n",
    "\n",
    "Example:\n",
    "Input string : 'hello .py'\n",
    "Expected Output : '.py hello'"
   ]
  },
  {
   "cell_type": "code",
   "execution_count": 1,
   "id": "61fc0239",
   "metadata": {},
   "outputs": [
    {
     "name": "stdout",
     "output_type": "stream",
     "text": [
      "Please enter a string and I will reverse it based on space delimiter: the dog is gray\n",
      "The string reversed word by word is: eht god si yarg\n"
     ]
    }
   ],
   "source": [
    "class ReverseString:\n",
    "    def user_input(self):\n",
    "        ask = input('Please enter a string and I will reverse it based on space delimiter: ')\n",
    "        return ask  \n",
    "    \n",
    "   # def split_string(self):\n",
    "   #     splitted_string= split()\n",
    "   #     return splitted_string\n",
    "        \n",
    "    def reverse(self, txt):\n",
    "        words = txt.split()\n",
    "        # Reverse the letters in each word and join them back\n",
    "        reversed_words = [word[::-1] for word in words]\n",
    "        reversed_txt = ' '.join(reversed_words) \n",
    "        return reversed_txt \n",
    "#Create an instance \n",
    "reverser = ReverseString()\n",
    "\n",
    "#Get input\n",
    "user_input_string = reverser.user_input()\n",
    "\n",
    "#Reverse the string\n",
    "reversed_string = reverser.reverse(user_input_string)\n",
    "\n",
    "\n",
    "print(\"The string reversed word by word is:\", reversed_string)\n"
   ]
  },
  {
   "cell_type": "markdown",
   "id": "86f25869",
   "metadata": {},
   "source": [
    "2. Write a Python class named Circle constructed by a radius and two methods which will compute the area and the perimeter of a circle."
   ]
  },
  {
   "cell_type": "code",
   "execution_count": 6,
   "id": "d6bb95d8",
   "metadata": {},
   "outputs": [
    {
     "name": "stdout",
     "output_type": "stream",
     "text": [
      "Pls enter the radius of the circle: 5\n",
      "circle area= 78.53981633974483\n",
      "circle perimeter31.41592653589793\n"
     ]
    }
   ],
   "source": [
    "import math\n",
    "\n",
    "class Circle:\n",
    "    def __init__(self, radius):\n",
    "        self.radius = radius   \n",
    "    \n",
    "    def area(self):\n",
    "        return math.pi *self.radius**2\n",
    "    \n",
    "    def perimeter(self):\n",
    "        return 2*math.pi*self.radius\n",
    "    \n",
    "radius=float(input(\"Pls enter the radius of the circle: \"))   \n",
    "circle=Circle(radius)\n",
    "\n",
    "circle_area=circle.area()\n",
    "circle_perimeter=circle.perimeter()\n",
    "print(\"circle area= \"+ str(circle_area))\n",
    "print(\"circle perimeter= \"+ str(circle_perimeter))"
   ]
  },
  {
   "cell_type": "code",
   "execution_count": null,
   "id": "84f4619c",
   "metadata": {},
   "outputs": [],
   "source": []
  }
 ],
 "metadata": {
  "kernelspec": {
   "display_name": "Python 3 (ipykernel)",
   "language": "python",
   "name": "python3"
  },
  "language_info": {
   "codemirror_mode": {
    "name": "ipython",
    "version": 3
   },
   "file_extension": ".py",
   "mimetype": "text/x-python",
   "name": "python",
   "nbconvert_exporter": "python",
   "pygments_lexer": "ipython3",
   "version": "3.10.9"
  }
 },
 "nbformat": 4,
 "nbformat_minor": 5
}
