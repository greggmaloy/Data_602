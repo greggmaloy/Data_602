{
 "cells": [
  {
   "cell_type": "code",
   "execution_count": null,
   "id": "7a12cd9d",
   "metadata": {},
   "outputs": [],
   "source": [
    "1. Write a function to calculate the area and perimeter of a rectangle."
   ]
  },
  {
   "cell_type": "code",
   "execution_count": 1,
   "id": "65218d36",
   "metadata": {},
   "outputs": [
    {
     "name": "stdout",
     "output_type": "stream",
     "text": [
      "Please enter the length of the rectangle: 6\n",
      "Please enter the width of the rectangle: 5\n",
      "Area: 30.0\n",
      "Perimeter: 22.0\n"
     ]
    }
   ],
   "source": [
    "# Function \n",
    "def calculate_rectangle_area_and_parameter(input_length, input_width):\n",
    "    area = input_length * input_width\n",
    "    return area\n",
    "\n",
    "# user input \n",
    "input_length = float(input('Please enter the length of the rectangle: '))\n",
    "input_width = float(input('Please enter the width of the rectangle: '))\n",
    "\n",
    "# Call the function \n",
    "area_result = calculate_rectangle_area_and_parameter(input_length, input_width)\n",
    "\n",
    "# Calculate the perimeter separately\n",
    "perimeter_result = 2 * (input_length + input_width)\n",
    "\n",
    "print(f\"Area: {area_result}\")\n",
    "print(f\"Perimeter: {perimeter_result}\")\n"
   ]
  },
  {
   "cell_type": "code",
   "execution_count": null,
   "id": "d4057f3f",
   "metadata": {},
   "outputs": [],
   "source": [
    "2. Write a function to check if a number is even or not.  The function should indicate to the user even or odd."
   ]
  },
  {
   "cell_type": "code",
   "execution_count": 2,
   "id": "aa3c2d24",
   "metadata": {},
   "outputs": [
    {
     "name": "stdout",
     "output_type": "stream",
     "text": [
      "Please enter a whole number: 99\n",
      "99 is odd\n"
     ]
    }
   ],
   "source": [
    "def even_or_odd(input_number):\n",
    "    if input_number % 2 == 0:\n",
    "         print(str(input_number) + \" is even\")\n",
    "    else:\n",
    "        print(str(input_number) + \" is odd\")\n",
    "\n",
    "input_number_to_query = int(input('Please enter a whole number: '))\n",
    "even_or_odd(input_number_to_query)"
   ]
  },
  {
   "cell_type": "markdown",
   "id": "abd3d1bd",
   "metadata": {},
   "source": [
    "3. Write a Python function that accepts a string and calculate the number of upper case letters and lower case letters.\n",
    "\n",
    "Sample string: “CUNY sps”\n",
    "Number of upper case characters: 4\n",
    "Number of lower case characters: 3"
   ]
  },
  {
   "cell_type": "code",
   "execution_count": 3,
   "id": "c87ed768",
   "metadata": {},
   "outputs": [
    {
     "name": "stdout",
     "output_type": "stream",
     "text": [
      "Please enter a string: TheDogIsDead\n",
      "Number of uppercase letters: 4\n",
      "Number of lowercase letters: 8\n"
     ]
    }
   ],
   "source": [
    "def str_count(input_str):\n",
    "    \n",
    "    upper_case_count=0\n",
    "    lower_case_count=0\n",
    "    \n",
    "    for char in input_str :\n",
    "         if char.isupper():\n",
    "            upper_case_count += 1\n",
    "         else:\n",
    "            lower_case_count += 1\n",
    "    return upper_case_count, lower_case_count\n",
    "        \n",
    "# user input \n",
    "input_str = str(input('Please enter a string: '))\n",
    "\n",
    "upper, lower = str_count(input_str)\n",
    "\n",
    "print('Number of uppercase letters:', upper)\n",
    "print('Number of lowercase letters:', lower)"
   ]
  },
  {
   "cell_type": "markdown",
   "id": "8a1cab97",
   "metadata": {},
   "source": [
    "4. Write a Python function to sum all the numbers in a list"
   ]
  },
  {
   "cell_type": "code",
   "execution_count": 4,
   "id": "e86309e8",
   "metadata": {},
   "outputs": [
    {
     "name": "stdout",
     "output_type": "stream",
     "text": [
      "Please enter a whole number: 102\n",
      "Please enter another whole number: 5\n",
      "Please enter another whole number: 3\n",
      "The sum of the list numbers is: 110\n"
     ]
    }
   ],
   "source": [
    "\n",
    "\n",
    "def list_sum():\n",
    "    total = 0  \n",
    "\n",
    "    for num in list_of_numbers:\n",
    "        total += num  # Add each number to the total\n",
    "\n",
    "    return total\n",
    "\n",
    "# User input\n",
    "input_1 = int(input('Please enter a whole number: '))\n",
    "input_2 = int(input('Please enter another whole number: '))\n",
    "input_3 = int(input('Please enter another whole number: '))\n",
    "\n",
    "list_of_numbers = [input_1, input_2, input_3]\n",
    "\n",
    "# result is a local variable\n",
    "result = list_sum()\n",
    "\n",
    "# Print the result\n",
    "print(f\"The sum of the list numbers is: {result}\")\n",
    "\n",
    "\n"
   ]
  },
  {
   "cell_type": "markdown",
   "id": "2933a3f5",
   "metadata": {},
   "source": [
    "5. Create a function that shows an example of global vs local variables."
   ]
  },
  {
   "cell_type": "code",
   "execution_count": 5,
   "id": "487601b3",
   "metadata": {},
   "outputs": [
    {
     "name": "stdout",
     "output_type": "stream",
     "text": [
      "Please enter a whole number: 3\n",
      "Please enter another whole number: 5\n",
      "Please enter another whole number: 4\n",
      "The sum of the list numbers is: 12\n",
      "If I add one million the answer is:1000012\n"
     ]
    }
   ],
   "source": [
    "\n",
    "#This program takes the result of a function that sums all the numbers in a list and then adds a million to it.\n",
    "#'one_million' is a global variable\n",
    "one_million = 1000000\n",
    "\n",
    "def list_sum():\n",
    "    total = 0  \n",
    "\n",
    "    for num in list_of_numbers:\n",
    "        total += num  # Add each number to the total\n",
    "\n",
    "    return total\n",
    "\n",
    "# User input\n",
    "input_1 = int(input('Please enter a whole number: '))\n",
    "input_2 = int(input('Please enter another whole number: '))\n",
    "input_3 = int(input('Please enter another whole number: '))\n",
    "\n",
    "list_of_numbers = [input_1, input_2, input_3]\n",
    "\n",
    "# 'result' is a local variable\n",
    "result = list_sum()\n",
    "\n",
    "# Print the result\n",
    "print(f\"The sum of the list numbers is: {result}\")\n",
    "\n",
    "final_answer=one_million+result\n",
    "print((f\"If I add one million the answer is:\"+str(final_answer)))"
   ]
  },
  {
   "cell_type": "markdown",
   "id": "05226e01",
   "metadata": {},
   "source": [
    "6. Write a Python program to create a function that takes one argument, and that argument will be multiplied with an unknown given number."
   ]
  },
  {
   "cell_type": "code",
   "execution_count": 6,
   "id": "365435bd",
   "metadata": {},
   "outputs": [
    {
     "name": "stdout",
     "output_type": "stream",
     "text": [
      "Please enter a number: 5\n",
      "A random number multiple by 5= 230\n"
     ]
    }
   ],
   "source": [
    "import random\n",
    "\n",
    "\n",
    "def random_num(input_1):\n",
    "    random_number=random.randint(1,100)\n",
    "    total = input_1*random_number\n",
    "    return total\n",
    "\n",
    "# User input\n",
    "input_1 = int(input('Please enter a number: '))\n",
    "\n",
    "#call\n",
    "total = random_num(input_1)  \n",
    "print(f\"A random number multiple by \"+str(input_1)+\"= \"+str(total))\n"
   ]
  }
 ],
 "metadata": {
  "kernelspec": {
   "display_name": "Python 3 (ipykernel)",
   "language": "python",
   "name": "python3"
  },
  "language_info": {
   "codemirror_mode": {
    "name": "ipython",
    "version": 3
   },
   "file_extension": ".py",
   "mimetype": "text/x-python",
   "name": "python",
   "nbconvert_exporter": "python",
   "pygments_lexer": "ipython3",
   "version": "3.10.9"
  }
 },
 "nbformat": 4,
 "nbformat_minor": 5
}
