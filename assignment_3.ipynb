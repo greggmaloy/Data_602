{
 "cells": [
  {
   "cell_type": "markdown",
   "id": "53a2f646",
   "metadata": {},
   "source": [
    "**Gregg Maloy**   \n",
    "**Data 602**    \n",
    "**Assignment 3**"
   ]
  },
  {
   "cell_type": "markdown",
   "id": "667c678a",
   "metadata": {},
   "source": [
    "Q1: Write a program that prompts the user for a meal: breakfast, lunch, or dinner. Then using if statements and else statements print the user a message recommending a meal. For example, if the meal was breakfast, you could say something like, “How about some bacon and eggs?”\n",
    "The user may enter something else in, but you only have to respond to breakfast, lunch, or dinner.\n"
   ]
  },
  {
   "cell_type": "code",
   "execution_count": 1,
   "id": "c57639e9",
   "metadata": {},
   "outputs": [
    {
     "name": "stdout",
     "output_type": "stream",
     "text": [
      "Please enter the number of the corresponding meal you would like to eat:\n",
      "1.) Breakfast\n",
      "2.) Lunch\n",
      "3.) Dinner\n",
      "2\n",
      "You will eat pizza for lunch and like it.\n"
     ]
    }
   ],
   "source": [
    "meal_dictionary = {\n",
    "    '1': 'pancakes',\n",
    "    '2': 'pizza',\n",
    "    '3': 'sushi',\n",
    "}\n",
    "\n",
    "user_menu = input('Please enter the number of the corresponding meal you would like to eat:\\n1.) Breakfast\\n2.) Lunch\\n3.) Dinner\\n')\n",
    "\n",
    "if user_menu in meal_dictionary :\n",
    "    meal_suggestion = meal_dictionary[user_menu]\n",
    "    if user_menu == '1':\n",
    "            print('We only have '+str(meal_suggestion)+' for breakfast so deal with it.')\n",
    "    elif user_menu == '2':\n",
    "            print('You will eat '+str(meal_suggestion)+' for lunch and like it.')\n",
    "    elif user_menu == '3':\n",
    "            print('Sorry, I was lying. We do not have '+str(meal_suggestion)+' for dinner. You will eat eggs.')        \n",
    "        \n",
    "        \n",
    "else:\n",
    "    print(\"Not a valid selection.\")"
   ]
  },
  {
   "cell_type": "markdown",
   "id": "54895a0f",
   "metadata": {},
   "source": [
    "Q2: The mailroom has asked you to design a simple payroll program that calculates a student employee’s gross pay, \n",
    "    including any overtime wages. If any employee works over 20 hours in a week, the mailroom pays them 1.5 times \n",
    "    their regular hourly pay rate for all hours over 20. You should take in the user’s input for the number of hours worked,\n",
    "    and their rate of pay."
   ]
  },
  {
   "cell_type": "code",
   "execution_count": 2,
   "id": "a902ed57",
   "metadata": {},
   "outputs": [
    {
     "name": "stdout",
     "output_type": "stream",
     "text": [
      "How many hours did you work this week? 21\n",
      "What is you rate of pay? 10\n",
      "Your total pay for this week is: $215.0\n"
     ]
    }
   ],
   "source": [
    "hours_list=[]\n",
    "overtime=1.5\n",
    "total_pay=0\n",
    "\n",
    "\n",
    "def user_input():\n",
    "      global hours_worked\n",
    "      hours_worked = float(input( \"How many hours did you work this week? \"))\n",
    "      rate_of_pay = float(input( \"What is you rate of pay? \"))\n",
    "      hours_list.append(hours_worked)\n",
    "      hours_list.append(rate_of_pay)\n",
    "      \n",
    "    \n",
    "def calculate_pay()   :\n",
    "    global total_pay  \n",
    "\n",
    "    if hours_worked <= 20:\n",
    "        total_pay = hours_worked * hours_list[1]  \n",
    "    else:\n",
    "        normal_pay = 20 * hours_list[1]  \n",
    "        overtime_hours = hours_worked - 20\n",
    "        overtime_pay = overtime_hours * (hours_list[1] * 1.5)  \n",
    "        total_pay = normal_pay + overtime_pay\n",
    "\n",
    "user_input()\n",
    "calculate_pay()\n",
    "print(\"Your total pay for this week is: $\" + str(total_pay))\n"
   ]
  },
  {
   "cell_type": "markdown",
   "id": "1d777701",
   "metadata": {},
   "source": [
    "Q3: Write a function named times_ten. The function should accept an argument and \n",
    "    display the product of its argument multiplied times 10.\n"
   ]
  },
  {
   "cell_type": "code",
   "execution_count": 3,
   "id": "31acb852",
   "metadata": {},
   "outputs": [
    {
     "name": "stdout",
     "output_type": "stream",
     "text": [
      "Please enter a number: 10\n",
      "10 multiple by 10 equals 100\n"
     ]
    }
   ],
   "source": [
    "def times_ten(input_1):\n",
    "    total = input_1*10\n",
    "    return total\n",
    "\n",
    "# User input\n",
    "input_1 = int(input('Please enter a number: '))\n",
    "\n",
    "total = times_ten(input_1) \n",
    "print(str(input_1)+\" multiple by 10 equals \"+str(total))"
   ]
  },
  {
   "cell_type": "markdown",
   "id": "2c6a7c98",
   "metadata": {},
   "source": [
    "SQ4: Find the errors, debug the program, and then execute to show the output.\n",
    "\n",
    "def main()\n",
    "      Calories1 = input( \"How many calories are in the first food?\")\n",
    "      Calories2 = input( \"How many calories are in the first food?\")\n",
    "      showCalories(calories1, calories2)\n",
    "\n",
    "def showCalories()   \n",
    "   print(“The total calories you ate today”, format(calories1 + calories2,.2f))\n"
   ]
  },
  {
   "cell_type": "code",
   "execution_count": 4,
   "id": "e172cc2b",
   "metadata": {},
   "outputs": [
    {
     "name": "stdout",
     "output_type": "stream",
     "text": [
      "How many calories are in the first food? 10\n",
      "How many calories are in the second food? 500\n",
      "The total calories you ate today 510\n"
     ]
    }
   ],
   "source": [
    "calories_list=[]\n",
    "\n",
    "def user_input():\n",
    "      calories1 = int(input( \"How many calories are in the first food? \"))\n",
    "      calories_list.append(calories1)  \n",
    "      calories2 = int(input( \"How many calories are in the second food? \"))\n",
    "      calories_list.append(calories2) \n",
    "      \n",
    "    \n",
    "def showCalories()   :\n",
    "   total_calories=sum(calories_list)\n",
    "   print(\"The total calories you ate today \" + str(total_calories))\n",
    "\n",
    "#Call\n",
    "user_input()\n",
    "showCalories()\n",
    "    \n"
   ]
  },
  {
   "cell_type": "markdown",
   "id": "800531b0",
   "metadata": {},
   "source": [
    "Q5: Write a program that uses any loop (while or for) that calculates the total of the following series of numbers:\n",
    "         1/30 + 2/29 + 3/28 ............. + 30/1"
   ]
  },
  {
   "cell_type": "code",
   "execution_count": 5,
   "id": "d929233b",
   "metadata": {},
   "outputs": [
    {
     "name": "stdout",
     "output_type": "stream",
     "text": [
      "The sum of this group of fractions is  93.84460105853213\n"
     ]
    }
   ],
   "source": [
    "total = 0\n",
    "\n",
    "for i in range(1, 31):\n",
    "    numerator = i\n",
    "    denominator = 31 - i  \n",
    "    fraction = numerator / denominator\n",
    "    total += fraction\n",
    "\n",
    "print(\"The sum of this group of fractions is \", total)\n"
   ]
  },
  {
   "cell_type": "markdown",
   "id": "482096ed",
   "metadata": {},
   "source": [
    "Q6: Write a function that computes the area of a triangle given its base and height.\n",
    "The formula for an area of a triangle is:\n",
    "AREA = 1/2 * BASE * HEIGHT"
   ]
  },
  {
   "cell_type": "code",
   "execution_count": 6,
   "id": "108dd6aa",
   "metadata": {},
   "outputs": [
    {
     "name": "stdout",
     "output_type": "stream",
     "text": [
      "Let's calculate the area of a triangle. Please enter the base measurement of the triangle 10\n",
      "Please enter the height measurement of the triangle 5\n",
      "The area of the triangle is 25.0\n"
     ]
    }
   ],
   "source": [
    "triangle_list=[]\n",
    "\n",
    "def user_input():\n",
    "      base_measure = float(input( \"Let's calculate the area of a triangle. Please enter the base measurement of the triangle \"))\n",
    "      triangle_list.append(base_measure)  \n",
    "      height_measure = float(input( \"Please enter the height measurement of the triangle \"))\n",
    "      triangle_list.append(height_measure) \n",
    "\n",
    "def calculate_area(height_measure,base_measure):\n",
    "       total_area=(height_measure*base_measure)*0.5\n",
    "       print(\"The area of the triangle is \" + str(total_area))\n",
    "    \n",
    "#Call\n",
    "user_input()\n",
    "calculate_area(triangle_list[1], triangle_list[0])"
   ]
  },
  {
   "cell_type": "code",
   "execution_count": null,
   "id": "76ba25f2",
   "metadata": {},
   "outputs": [],
   "source": []
  }
 ],
 "metadata": {
  "kernelspec": {
   "display_name": "Python 3 (ipykernel)",
   "language": "python",
   "name": "python3"
  },
  "language_info": {
   "codemirror_mode": {
    "name": "ipython",
    "version": 3
   },
   "file_extension": ".py",
   "mimetype": "text/x-python",
   "name": "python",
   "nbconvert_exporter": "python",
   "pygments_lexer": "ipython3",
   "version": "3.10.9"
  }
 },
 "nbformat": 4,
 "nbformat_minor": 5
}
